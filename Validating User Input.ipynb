{
 "cells": [
  {
   "cell_type": "code",
   "id": "initial_id",
   "metadata": {
    "collapsed": true,
    "ExecuteTime": {
     "end_time": "2025-10-01T14:49:32.407812Z",
     "start_time": "2025-10-01T14:49:24.782353Z"
    }
   },
   "source": [
    "def user_choice():\n",
    "    choice = 'WRONG'\n",
    "    acceptable_range = range(1, 10)\n",
    "    within_range = False\n",
    "    while not choice.isdigit() or not within_range:\n",
    "        choice = input(\"Please enter a number between 1 and 10: \")\n",
    "        if choice.isdigit() == False:\n",
    "            print(\"Sorry that is not a digit\")\n",
    "        if choice.isdigit() == True:\n",
    "            if int(choice) in acceptable_range:\n",
    "                within_range = True\n",
    "            else:\n",
    "                print(\"Sorry, you are out of range (0-10)\")\n",
    "                within_range = False\n",
    "    return choice\n",
    "choice = user_choice()\n",
    "\n"
   ],
   "outputs": [
    {
     "name": "stdout",
     "output_type": "stream",
     "text": [
      "Sorry, you are out of range (0-10)\n"
     ]
    }
   ],
   "execution_count": 10
  }
 ],
 "metadata": {
  "kernelspec": {
   "display_name": "Python 3",
   "language": "python",
   "name": "python3"
  },
  "language_info": {
   "codemirror_mode": {
    "name": "ipython",
    "version": 2
   },
   "file_extension": ".py",
   "mimetype": "text/x-python",
   "name": "python",
   "nbconvert_exporter": "python",
   "pygments_lexer": "ipython2",
   "version": "2.7.6"
  }
 },
 "nbformat": 4,
 "nbformat_minor": 5
}
