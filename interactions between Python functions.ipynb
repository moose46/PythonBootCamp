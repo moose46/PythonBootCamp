{
 "cells": [
  {
   "cell_type": "code",
   "id": "initial_id",
   "metadata": {
    "collapsed": true,
    "ExecuteTime": {
     "end_time": "2025-09-25T18:27:06.986358Z",
     "start_time": "2025-09-25T18:27:06.981341Z"
    }
   },
   "source": [
    "from ListsInPython import mylist\n",
    "\n",
    "example = [1,2,3,4,5,6,7,]\n",
    "from random import shuffle\n",
    "shuffle(example)\n",
    "def suffle_list(mylist):\n",
    "    shuffle(mylist)\n",
    "    return mylist\n",
    "\n",
    "print(suffle_list(example))\n"
   ],
   "outputs": [
    {
     "name": "stdout",
     "output_type": "stream",
     "text": [
      "[3, 6, 5, 4, 2, 1, 7]\n"
     ]
    }
   ],
   "execution_count": 47
  },
  {
   "metadata": {
    "ExecuteTime": {
     "end_time": "2025-09-25T18:27:10.638360Z",
     "start_time": "2025-09-25T18:27:10.634696Z"
    }
   },
   "cell_type": "code",
   "source": [
    "mylist = ['','0','']\n",
    "print(suffle_list(mylist))"
   ],
   "id": "f18ceab8f3b15d5c",
   "outputs": [
    {
     "name": "stdout",
     "output_type": "stream",
     "text": [
      "['', '', '0']\n"
     ]
    }
   ],
   "execution_count": 48
  },
  {
   "metadata": {
    "ExecuteTime": {
     "end_time": "2025-09-25T18:31:42.370970Z",
     "start_time": "2025-09-25T18:31:40.137601Z"
    }
   },
   "cell_type": "code",
   "source": [
    "def suffle_list(mylist):\n",
    "    shuffle(mylist)\n",
    "    return mylist\n",
    "def player_guess():\n",
    "    guess = ''\n",
    "    while guess not in ['0','1','2']:\n",
    "        guess = input('Pick a number between 0 and 2: ')\n",
    "    return int(guess)\n",
    "# print(player_guess())\n",
    "def check_guess(mylist, guess):\n",
    "    if mylist[guess] == '0':\n",
    "        print('Correct!')\n",
    "    else:\n",
    "        print('Incorrect!')\n",
    "        print(mylist)\n",
    "# initial list\n",
    "mylist = ['','0','']\n",
    "# shuffle list\n",
    "mixedup_list = suffle_list(mylist)\n",
    "\n",
    "# user guess\n",
    "guess = player_guess()\n",
    "check_guess(mixedup_list, guess)"
   ],
   "id": "b139c606b6759e85",
   "outputs": [
    {
     "name": "stdout",
     "output_type": "stream",
     "text": [
      "Incorrect!\n",
      "['0', '', '']\n"
     ]
    }
   ],
   "execution_count": 54
  }
 ],
 "metadata": {
  "kernelspec": {
   "display_name": "Python 3",
   "language": "python",
   "name": "python3"
  },
  "language_info": {
   "codemirror_mode": {
    "name": "ipython",
    "version": 2
   },
   "file_extension": ".py",
   "mimetype": "text/x-python",
   "name": "python",
   "nbconvert_exporter": "python",
   "pygments_lexer": "ipython2",
   "version": "2.7.6"
  }
 },
 "nbformat": 4,
 "nbformat_minor": 5
}
