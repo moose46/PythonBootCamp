{
 "cells": [
  {
   "metadata": {
    "collapsed": true
   },
   "cell_type": "markdown",
   "source": "<https://www.udemy.com/course/complete-python-bootcamp/learn/lecture/20385935#overview>",
   "id": "7bfe5df64438ce8e"
  },
  {
   "metadata": {
    "ExecuteTime": {
     "end_time": "2025-09-30T14:23:26.672307Z",
     "start_time": "2025-09-30T14:23:26.666786Z"
    }
   },
   "cell_type": "code",
   "source": [
    "# Write a function that computes the volume of a sphere\n",
    "# 4/3 * pi * r^3\n",
    "def volume(radius):\n",
    "    return (4/3) * (3.14159 * radius ** 3)\n",
    "\n",
    "volume(2)"
   ],
   "id": "c0063003fe4915f9",
   "outputs": [
    {
     "data": {
      "text/plain": [
       "33.51029333333333"
      ]
     },
     "execution_count": 10,
     "metadata": {},
     "output_type": "execute_result"
    }
   ],
   "execution_count": 10
  },
  {
   "metadata": {
    "ExecuteTime": {
     "end_time": "2025-09-30T14:24:19.501876Z",
     "start_time": "2025-09-30T14:24:19.497842Z"
    }
   },
   "cell_type": "code",
   "source": [
    "# checks whether a number is in the range\n",
    "def ran_check(num, low, high):\n",
    " return num in range(low, high+1)\n",
    "ran_check(5,1,10)"
   ],
   "id": "b3587b48713448e3",
   "outputs": [
    {
     "data": {
      "text/plain": [
       "True"
      ]
     },
     "execution_count": 11,
     "metadata": {},
     "output_type": "execute_result"
    }
   ],
   "execution_count": 11
  },
  {
   "metadata": {
    "ExecuteTime": {
     "end_time": "2025-09-30T14:30:30.237995Z",
     "start_time": "2025-09-30T14:30:30.233691Z"
    }
   },
   "cell_type": "code",
   "source": [
    "def up_low(s):\n",
    "    d={\"upper\": 0, \"lower\": 0}\n",
    "    for c in s:\n",
    "        if c.isupper():\n",
    "            d['upper'] += 1\n",
    "        elif c.islower():\n",
    "            d['lower'] += 1\n",
    "        else:\n",
    "            pass\n",
    "    print(f'{s} Upper={d[\"upper\"]} Lower={d[\"lower\"]}')\n",
    "up_low(\"Boom\")\n"
   ],
   "id": "400cbf7b9a3b627c",
   "outputs": [
    {
     "name": "stdout",
     "output_type": "stream",
     "text": [
      "Boom Upper=1 Lower=3\n"
     ]
    }
   ],
   "execution_count": 17
  },
  {
   "metadata": {
    "ExecuteTime": {
     "end_time": "2025-09-30T14:34:06.424966Z",
     "start_time": "2025-09-30T14:34:06.420861Z"
    }
   },
   "cell_type": "code",
   "source": [
    "# Write a Python function that takes a list and returns a new list with unique elements of the first list.\n",
    "\n",
    "def unique_list(lst):\n",
    "    # Also possible to use list(set())\n",
    "    x = []\n",
    "    for a in lst:\n",
    "        if a not in x:\n",
    "            x.append(a)\n",
    "    return x\n",
    "unique_list([1,1,1,3,4,5,55,5,7,100])"
   ],
   "id": "d15050848c789fcd",
   "outputs": [
    {
     "data": {
      "text/plain": [
       "[1, 3, 4, 5, 55, 7, 100]"
      ]
     },
     "execution_count": 19,
     "metadata": {},
     "output_type": "execute_result"
    }
   ],
   "execution_count": 19
  },
  {
   "metadata": {},
   "cell_type": "code",
   "outputs": [],
   "execution_count": null,
   "source": "",
   "id": "c1209876a05cdc0f"
  }
 ],
 "metadata": {
  "kernelspec": {
   "display_name": "Python 3",
   "language": "python",
   "name": "python3"
  },
  "language_info": {
   "codemirror_mode": {
    "name": "ipython",
    "version": 2
   },
   "file_extension": ".py",
   "mimetype": "text/x-python",
   "name": "python",
   "nbconvert_exporter": "python",
   "pygments_lexer": "ipython2",
   "version": "2.7.6"
  }
 },
 "nbformat": 4,
 "nbformat_minor": 5
}
