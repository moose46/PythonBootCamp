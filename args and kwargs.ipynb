{
 "cells": [
  {
   "cell_type": "code",
   "id": "initial_id",
   "metadata": {
    "collapsed": true,
    "ExecuteTime": {
     "end_time": "2025-09-25T18:45:34.965615Z",
     "start_time": "2025-09-25T18:45:34.962264Z"
    }
   },
   "source": [
    "def myfunc(a,b):\n",
    "    return sum((a,b)) * .05\n",
    "print(myfunc(40,60))"
   ],
   "outputs": [
    {
     "name": "stdout",
     "output_type": "stream",
     "text": [
      "5.0\n"
     ]
    }
   ],
   "execution_count": 2
  },
  {
   "metadata": {
    "ExecuteTime": {
     "end_time": "2025-09-25T18:47:01.782191Z",
     "start_time": "2025-09-25T18:47:01.777950Z"
    }
   },
   "cell_type": "code",
   "source": [
    "def myfunc(*args):\n",
    "    return sum(args)* .05\n",
    "myfunc(10,30,60,100)"
   ],
   "id": "5ce1d337cd9bd3ba",
   "outputs": [
    {
     "data": {
      "text/plain": [
       "10.0"
      ]
     },
     "execution_count": 5,
     "metadata": {},
     "output_type": "execute_result"
    }
   ],
   "execution_count": 5
  },
  {
   "metadata": {
    "ExecuteTime": {
     "end_time": "2025-09-25T18:54:24.045526Z",
     "start_time": "2025-09-25T18:54:24.042204Z"
    }
   },
   "cell_type": "code",
   "source": [
    "def myfunc(**kwargs):\n",
    "    print(kwargs)\n",
    "    if 'fruit' in kwargs:\n",
    "        print('My fruit of choice is {}'.format(kwargs['fruit']))\n",
    "    else:\n",
    "        print('Did not find any fruit here ')\n",
    "myfunc(fruit='bannana')\n"
   ],
   "id": "b48042bd71761f0c",
   "outputs": [
    {
     "name": "stdout",
     "output_type": "stream",
     "text": [
      "{'fruit': 'bannana'}\n",
      "My fruit of choice is bannana\n"
     ]
    }
   ],
   "execution_count": 6
  },
  {
   "metadata": {
    "ExecuteTime": {
     "end_time": "2025-09-25T19:03:14.821514Z",
     "start_time": "2025-09-25T19:03:14.817462Z"
    }
   },
   "cell_type": "code",
   "source": [
    "def myfunc(*args, **kwargs):\n",
    "    print(args)\n",
    "    print(kwargs)\n",
    "    print('I would like {} {}'.format(args[0], kwargs['food']))\n",
    "\n",
    "myfunc(10,20,40,food='cup cakes',fruit='bannana')\n"
   ],
   "id": "800a6ea73e6c6477",
   "outputs": [
    {
     "name": "stdout",
     "output_type": "stream",
     "text": [
      "(10, 20, 40)\n",
      "{'food': 'cup cakes', 'fruit': 'bannana'}\n",
      "I would like 10 cup cakes\n"
     ]
    }
   ],
   "execution_count": 11
  },
  {
   "metadata": {
    "ExecuteTime": {
     "end_time": "2025-09-25T19:09:13.610814Z",
     "start_time": "2025-09-25T19:09:13.606949Z"
    }
   },
   "cell_type": "code",
   "source": [
    "def myfunc(*args):\n",
    "    l = []\n",
    "    for a in args:\n",
    "        if a % 2 == 0:\n",
    "            l.append(a)\n",
    "    return l\n",
    "myfunc(2,4,5,8,0,3)"
   ],
   "id": "f83ffb2c2d38d006",
   "outputs": [
    {
     "data": {
      "text/plain": [
       "[2, 4, 8, 0]"
      ]
     },
     "execution_count": 13,
     "metadata": {},
     "output_type": "execute_result"
    }
   ],
   "execution_count": 13
  },
  {
   "metadata": {
    "ExecuteTime": {
     "end_time": "2025-09-25T19:13:59.838107Z",
     "start_time": "2025-09-25T19:13:59.833075Z"
    }
   },
   "cell_type": "code",
   "source": [
    "def myfunc(mystring):\n",
    "    cnt = 0\n",
    "    s = ''\n",
    "    for a in mystring:\n",
    "        if cnt % 2 == 0:\n",
    "            s += a.lower()\n",
    "        else:\n",
    "            s += a.upper()\n",
    "        cnt += 1\n",
    "    return s\n",
    "myfunc('bannana')\n"
   ],
   "id": "4904a5d0443b74e3",
   "outputs": [
    {
     "data": {
      "text/plain": [
       "'bAnNaNa'"
      ]
     },
     "execution_count": 17,
     "metadata": {},
     "output_type": "execute_result"
    }
   ],
   "execution_count": 17
  }
 ],
 "metadata": {
  "kernelspec": {
   "display_name": "Python 3",
   "language": "python",
   "name": "python3"
  },
  "language_info": {
   "codemirror_mode": {
    "name": "ipython",
    "version": 2
   },
   "file_extension": ".py",
   "mimetype": "text/x-python",
   "name": "python",
   "nbconvert_exporter": "python",
   "pygments_lexer": "ipython2",
   "version": "2.7.6"
  }
 },
 "nbformat": 4,
 "nbformat_minor": 5
}
