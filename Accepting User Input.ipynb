{
 "cells": [
  {
   "metadata": {
    "collapsed": true
   },
   "cell_type": "markdown",
   "source": "<https://www.udemy.com/course/complete-python-bootcamp/learn/lecture/20205166#overview>",
   "id": "b5c0abaa14b8ccc6"
  },
  {
   "metadata": {
    "ExecuteTime": {
     "end_time": "2025-09-30T18:18:21.692205Z",
     "start_time": "2025-09-30T18:18:18.784355Z"
    }
   },
   "cell_type": "code",
   "source": [
    "results = int(input('Please enter a number:'))\n",
    "print(results)"
   ],
   "id": "a516418342755c94",
   "outputs": [
    {
     "name": "stdout",
     "output_type": "stream",
     "text": [
      "65\n"
     ]
    }
   ],
   "execution_count": 7
  },
  {
   "metadata": {
    "ExecuteTime": {
     "end_time": "2025-09-30T18:14:55.445185Z",
     "start_time": "2025-09-30T18:14:55.440690Z"
    }
   },
   "cell_type": "code",
   "source": "",
   "id": "f8ac87d19f846b3d",
   "outputs": [
    {
     "name": "stdout",
     "output_type": "stream",
     "text": [
      "3\n"
     ]
    }
   ],
   "execution_count": 4
  }
 ],
 "metadata": {
  "kernelspec": {
   "display_name": "Python 3",
   "language": "python",
   "name": "python3"
  },
  "language_info": {
   "codemirror_mode": {
    "name": "ipython",
    "version": 2
   },
   "file_extension": ".py",
   "mimetype": "text/x-python",
   "name": "python",
   "nbconvert_exporter": "python",
   "pygments_lexer": "ipython2",
   "version": "2.7.6"
  }
 },
 "nbformat": 4,
 "nbformat_minor": 5
}
