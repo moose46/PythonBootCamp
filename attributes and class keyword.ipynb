{
 "cells": [
  {
   "cell_type": "code",
   "id": "initial_id",
   "metadata": {
    "collapsed": true,
    "ExecuteTime": {
     "end_time": "2025-10-01T18:45:10.024710Z",
     "start_time": "2025-10-01T18:45:10.020704Z"
    }
   },
   "source": [
    "class Sample():\n",
    "    pass"
   ],
   "outputs": [],
   "execution_count": 1
  },
  {
   "metadata": {
    "ExecuteTime": {
     "end_time": "2025-10-01T18:46:06.905145Z",
     "start_time": "2025-10-01T18:46:06.901135Z"
    }
   },
   "cell_type": "code",
   "source": [
    "mysample = Sample()\n",
    "print(type(mysample))"
   ],
   "id": "967a6acf79dba639",
   "outputs": [
    {
     "name": "stdout",
     "output_type": "stream",
     "text": [
      "<class '__main__.Sample'>\n"
     ]
    }
   ],
   "execution_count": 3
  },
  {
   "metadata": {
    "ExecuteTime": {
     "end_time": "2025-10-01T18:49:10.273894Z",
     "start_time": "2025-10-01T18:49:10.268880Z"
    }
   },
   "cell_type": "code",
   "source": [
    "class Dog():\n",
    "    def __init__(self, breed):\n",
    "        self.breed = breed\n",
    "\n",
    "mydog = Dog(breed=\"Chicken\")\n",
    "type(mydog)"
   ],
   "id": "2486fdb571c444d7",
   "outputs": [
    {
     "data": {
      "text/plain": [
       "__main__.Dog"
      ]
     },
     "execution_count": 6,
     "metadata": {},
     "output_type": "execute_result"
    }
   ],
   "execution_count": 6
  },
  {
   "metadata": {
    "ExecuteTime": {
     "end_time": "2025-10-01T18:49:28.700203Z",
     "start_time": "2025-10-01T18:49:28.696203Z"
    }
   },
   "cell_type": "code",
   "source": "mydog.breed",
   "id": "4671ee3d7dda0fa4",
   "outputs": [
    {
     "data": {
      "text/plain": [
       "'Chicken'"
      ]
     },
     "execution_count": 7,
     "metadata": {},
     "output_type": "execute_result"
    }
   ],
   "execution_count": 7
  }
 ],
 "metadata": {
  "kernelspec": {
   "display_name": "Python 3",
   "language": "python",
   "name": "python3"
  },
  "language_info": {
   "codemirror_mode": {
    "name": "ipython",
    "version": 2
   },
   "file_extension": ".py",
   "mimetype": "text/x-python",
   "name": "python",
   "nbconvert_exporter": "python",
   "pygments_lexer": "ipython2",
   "version": "2.7.6"
  }
 },
 "nbformat": 4,
 "nbformat_minor": 5
}
