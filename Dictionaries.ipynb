{
 "cells": [
  {
   "metadata": {},
   "cell_type": "markdown",
   "source": "#### https://www.udemy.com/course/complete-python-bootcamp/learn/lecture/9388536?start=105#content",
   "id": "e17781014716faa4"
  },
  {
   "cell_type": "code",
   "id": "initial_id",
   "metadata": {
    "collapsed": true,
    "ExecuteTime": {
     "end_time": "2025-09-23T14:34:48.731955Z",
     "start_time": "2025-09-23T14:34:48.728445Z"
    }
   },
   "source": [
    "my_dict = {'key1':'value1','key2':'value2'}\n",
    "print(my_dict['key1'])"
   ],
   "outputs": [
    {
     "name": "stdout",
     "output_type": "stream",
     "text": [
      "value1\n"
     ]
    }
   ],
   "execution_count": 5
  },
  {
   "metadata": {
    "ExecuteTime": {
     "end_time": "2025-09-23T14:34:48.790228Z",
     "start_time": "2025-09-23T14:34:48.787210Z"
    }
   },
   "cell_type": "code",
   "source": [
    "prices_lookup = {'apple':2.99, 'milk':1.99, 'oranges':2.99}\n",
    "print(prices_lookup['milk'])"
   ],
   "id": "aaea73c43f40ad5f",
   "outputs": [
    {
     "name": "stdout",
     "output_type": "stream",
     "text": [
      "1.99\n"
     ]
    }
   ],
   "execution_count": 6
  },
  {
   "metadata": {
    "ExecuteTime": {
     "end_time": "2025-09-23T15:18:40.040029Z",
     "start_time": "2025-09-23T15:18:40.035617Z"
    }
   },
   "cell_type": "code",
   "source": [
    "d = {'k1':123,'k2':[1,2,3],'k3': {'insideKey':100}}\n",
    "print(d['k1'])\n",
    "print(d['k2'])\n",
    "print(d['k3'])\n",
    "print(d['k3']['insideKey'])\n",
    "print(d['k2'][2])"
   ],
   "id": "39edd4098a417a7a",
   "outputs": [
    {
     "name": "stdout",
     "output_type": "stream",
     "text": [
      "123\n",
      "[1, 2, 3]\n",
      "{'insideKey': 100}\n",
      "100\n",
      "3\n"
     ]
    }
   ],
   "execution_count": 9
  },
  {
   "metadata": {
    "ExecuteTime": {
     "end_time": "2025-09-23T15:27:49.094858Z",
     "start_time": "2025-09-23T15:27:49.090099Z"
    }
   },
   "cell_type": "code",
   "source": [
    "d = {'key1': ['a','b','c'],'key2':[1,2,3]}\n",
    "print(d['key1'])\n",
    "print(d['key2'])\n",
    "print(d['key1'][1])\n",
    "print(d['key1'][1].upper())\n",
    "print(d.keys())\n",
    "print(d.values())\n",
    "print(d.items())"
   ],
   "id": "8fd8d7a1f73a6eff",
   "outputs": [
    {
     "name": "stdout",
     "output_type": "stream",
     "text": [
      "['a', 'b', 'c']\n",
      "[1, 2, 3]\n",
      "b\n",
      "B\n",
      "dict_keys(['key1', 'key2'])\n",
      "dict_values([['a', 'b', 'c'], [1, 2, 3]])\n",
      "dict_items([('key1', ['a', 'b', 'c']), ('key2', [1, 2, 3])])\n"
     ]
    }
   ],
   "execution_count": 17
  }
 ],
 "metadata": {
  "kernelspec": {
   "display_name": "Python 3",
   "language": "python",
   "name": "python3"
  },
  "language_info": {
   "codemirror_mode": {
    "name": "ipython",
    "version": 2
   },
   "file_extension": ".py",
   "mimetype": "text/x-python",
   "name": "python",
   "nbconvert_exporter": "python",
   "pygments_lexer": "ipython2",
   "version": "2.7.6"
  }
 },
 "nbformat": 4,
 "nbformat_minor": 5
}
