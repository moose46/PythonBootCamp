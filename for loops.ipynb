{
 "cells": [
  {
   "metadata": {},
   "cell_type": "markdown",
   "source": "<https://www.udemy.com/course/complete-python-bootcamp/learn/lecture/9407962#overview>",
   "id": "3f27cc3124a24b76"
  },
  {
   "cell_type": "code",
   "id": "initial_id",
   "metadata": {
    "collapsed": true,
    "ExecuteTime": {
     "end_time": "2025-09-24T15:00:09.679250Z",
     "start_time": "2025-09-24T15:00:09.675567Z"
    }
   },
   "source": [
    "x = ['a','b','c','d','e']\n",
    "print(x)\n",
    "for y in x:\n",
    "    print(y)"
   ],
   "outputs": [
    {
     "name": "stdout",
     "output_type": "stream",
     "text": [
      "['a', 'b', 'c', 'd', 'e']\n",
      "a\n",
      "b\n",
      "c\n",
      "d\n",
      "e\n"
     ]
    }
   ],
   "execution_count": 8
  },
  {
   "metadata": {
    "ExecuteTime": {
     "end_time": "2025-09-24T15:00:11.463026Z",
     "start_time": "2025-09-24T15:00:11.460024Z"
    }
   },
   "cell_type": "code",
   "source": [
    "i = 0\n",
    "for y in x:\n",
    "    if i % 2 == 0:\n",
    "        print(f'{y} is even')\n",
    "    i += 1"
   ],
   "id": "580b42d04b4980f7",
   "outputs": [
    {
     "name": "stdout",
     "output_type": "stream",
     "text": [
      "a is even\n",
      "c is even\n",
      "e is even\n"
     ]
    }
   ],
   "execution_count": 9
  },
  {
   "metadata": {
    "ExecuteTime": {
     "end_time": "2025-09-24T15:03:09.535413Z",
     "start_time": "2025-09-24T15:03:09.532385Z"
    }
   },
   "cell_type": "code",
   "source": [
    "mystring = 'Hello World'\n",
    "for letter in mystring:\n",
    "    print(letter)"
   ],
   "id": "77ab5e0d08469e53",
   "outputs": [
    {
     "name": "stdout",
     "output_type": "stream",
     "text": [
      "H\n",
      "e\n",
      "l\n",
      "l\n",
      "o\n",
      " \n",
      "W\n",
      "o\n",
      "r\n",
      "l\n",
      "d\n"
     ]
    }
   ],
   "execution_count": 13
  },
  {
   "metadata": {
    "ExecuteTime": {
     "end_time": "2025-09-24T15:04:50.790333Z",
     "start_time": "2025-09-24T15:04:50.787035Z"
    }
   },
   "cell_type": "code",
   "source": [
    "mylist = [(1,2),(3,4),(5,6)]\n",
    "for item in mylist:\n",
    "    print(item)"
   ],
   "id": "79a0555fc8a54c73",
   "outputs": [
    {
     "name": "stdout",
     "output_type": "stream",
     "text": [
      "(1, 2)\n",
      "(3, 4)\n",
      "(5, 6)\n"
     ]
    }
   ],
   "execution_count": 14
  },
  {
   "metadata": {
    "ExecuteTime": {
     "end_time": "2025-09-24T15:06:03.410176Z",
     "start_time": "2025-09-24T15:06:03.406607Z"
    }
   },
   "cell_type": "code",
   "source": [
    "for (a,b) in mylist:\n",
    "    print(a)\n",
    "    print(b)"
   ],
   "id": "1cb1a5c50a443bf4",
   "outputs": [
    {
     "name": "stdout",
     "output_type": "stream",
     "text": [
      "1\n",
      "2\n",
      "3\n",
      "4\n",
      "5\n",
      "6\n"
     ]
    }
   ],
   "execution_count": 15
  },
  {
   "metadata": {
    "ExecuteTime": {
     "end_time": "2025-09-24T15:08:23.049498Z",
     "start_time": "2025-09-24T15:08:23.046644Z"
    }
   },
   "cell_type": "code",
   "source": [
    "# tuple unpacking\n",
    "mylist = [(1,2,3),(5,6,7),(8,9,10)]\n",
    "for a,b,c in mylist:\n",
    "    print(b)"
   ],
   "id": "8334040ee062d7f7",
   "outputs": [
    {
     "name": "stdout",
     "output_type": "stream",
     "text": [
      "2\n",
      "6\n",
      "9\n"
     ]
    }
   ],
   "execution_count": 18
  },
  {
   "metadata": {
    "ExecuteTime": {
     "end_time": "2025-09-24T15:11:01.070226Z",
     "start_time": "2025-09-24T15:11:01.064578Z"
    }
   },
   "cell_type": "code",
   "source": [
    "d = {'k1':1,'k2':2,'k3':3}\n",
    "for key,value in d.items():\n",
    "    print(f'{key} is {value}')"
   ],
   "id": "f9c7239b8512be1b",
   "outputs": [
    {
     "name": "stdout",
     "output_type": "stream",
     "text": [
      "k1 is 1\n",
      "k2 is 2\n",
      "k3 is 3\n"
     ]
    }
   ],
   "execution_count": 22
  }
 ],
 "metadata": {
  "kernelspec": {
   "display_name": "Python 3",
   "language": "python",
   "name": "python3"
  },
  "language_info": {
   "codemirror_mode": {
    "name": "ipython",
    "version": 2
   },
   "file_extension": ".py",
   "mimetype": "text/x-python",
   "name": "python",
   "nbconvert_exporter": "python",
   "pygments_lexer": "ipython2",
   "version": "2.7.6"
  }
 },
 "nbformat": 4,
 "nbformat_minor": 5
}
