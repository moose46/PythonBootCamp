{
 "cells": [
  {
   "metadata": {
    "collapsed": true
   },
   "cell_type": "markdown",
   "source": "### https://www.udemy.com/course/complete-python-bootcamp/l",
   "id": "5e4840d1818fb1e5"
  },
  {
   "metadata": {
    "ExecuteTime": {
     "end_time": "2025-09-24T20:06:29.957502Z",
     "start_time": "2025-09-24T20:06:29.953470Z"
    }
   },
   "cell_type": "code",
   "source": [
    "def even_check(number):\n",
    "    return number % 2 == 0\n",
    "print(even_check(1))"
   ],
   "id": "96fe0aa8a6b41d9e",
   "outputs": [
    {
     "name": "stdout",
     "output_type": "stream",
     "text": [
      "False\n"
     ]
    }
   ],
   "execution_count": 2
  },
  {
   "metadata": {
    "ExecuteTime": {
     "end_time": "2025-09-24T20:11:15.211695Z",
     "start_time": "2025-09-24T20:11:15.207183Z"
    }
   },
   "cell_type": "code",
   "source": [
    "#   return true if any number in a list is even\n",
    "def check_even_list(num_list):\n",
    "    for num in num_list:\n",
    "        if num % 2 == 0:\n",
    "            return True\n",
    "    return False\n",
    "check_even_list([3,6,9])"
   ],
   "id": "52e1e36de47920ba",
   "outputs": [
    {
     "data": {
      "text/plain": [
       "True"
      ]
     },
     "execution_count": 6,
     "metadata": {},
     "output_type": "execute_result"
    }
   ],
   "execution_count": 6
  },
  {
   "metadata": {
    "ExecuteTime": {
     "end_time": "2025-09-24T20:15:15.169735Z",
     "start_time": "2025-09-24T20:15:15.163735Z"
    }
   },
   "cell_type": "code",
   "source": [
    "def check_even_list2(num_list):\n",
    "    even_numbers = []\n",
    "    for num in num_list:\n",
    "        if num % 2 == 0:\n",
    "            even_numbers.append(num)\n",
    "    return even_numbers\n",
    "check_even_list2([3,6,9])"
   ],
   "id": "ae68b1e58ee08352",
   "outputs": [
    {
     "data": {
      "text/plain": [
       "[6]"
      ]
     },
     "execution_count": 7,
     "metadata": {},
     "output_type": "execute_result"
    }
   ],
   "execution_count": 7
  }
 ],
 "metadata": {
  "kernelspec": {
   "display_name": "Python 3",
   "language": "python",
   "name": "python3"
  },
  "language_info": {
   "codemirror_mode": {
    "name": "ipython",
    "version": 2
   },
   "file_extension": ".py",
   "mimetype": "text/x-python",
   "name": "python",
   "nbconvert_exporter": "python",
   "pygments_lexer": "ipython2",
   "version": "2.7.6"
  }
 },
 "nbformat": 4,
 "nbformat_minor": 5
}
