{
 "cells": [
  {
   "cell_type": "code",
   "id": "initial_id",
   "metadata": {
    "collapsed": true,
    "ExecuteTime": {
     "end_time": "2025-09-24T13:05:41.938293Z",
     "start_time": "2025-09-24T13:05:41.932290Z"
    }
   },
   "source": "1 < 2",
   "outputs": [
    {
     "data": {
      "text/plain": [
       "True"
      ]
     },
     "execution_count": 1,
     "metadata": {},
     "output_type": "execute_result"
    }
   ],
   "execution_count": 1
  },
  {
   "metadata": {
    "ExecuteTime": {
     "end_time": "2025-09-24T13:05:51.909647Z",
     "start_time": "2025-09-24T13:05:51.905152Z"
    }
   },
   "cell_type": "code",
   "source": "2 < 3",
   "id": "54fadde02fb783ec",
   "outputs": [
    {
     "data": {
      "text/plain": [
       "True"
      ]
     },
     "execution_count": 3,
     "metadata": {},
     "output_type": "execute_result"
    }
   ],
   "execution_count": 3
  },
  {
   "metadata": {
    "ExecuteTime": {
     "end_time": "2025-09-24T13:06:09.249520Z",
     "start_time": "2025-09-24T13:06:09.245013Z"
    }
   },
   "cell_type": "code",
   "source": "1 < 2 < 3",
   "id": "1ff559fe6a6ba3d2",
   "outputs": [
    {
     "data": {
      "text/plain": [
       "True"
      ]
     },
     "execution_count": 4,
     "metadata": {},
     "output_type": "execute_result"
    }
   ],
   "execution_count": 4
  },
  {
   "metadata": {
    "ExecuteTime": {
     "end_time": "2025-09-24T13:06:30.916405Z",
     "start_time": "2025-09-24T13:06:30.913069Z"
    }
   },
   "cell_type": "code",
   "source": "1 < 2 > 3",
   "id": "ccec051ed883c81f",
   "outputs": [
    {
     "data": {
      "text/plain": [
       "False"
      ]
     },
     "execution_count": 6,
     "metadata": {},
     "output_type": "execute_result"
    }
   ],
   "execution_count": 6
  },
  {
   "metadata": {
    "ExecuteTime": {
     "end_time": "2025-09-24T13:06:52.959170Z",
     "start_time": "2025-09-24T13:06:52.954658Z"
    }
   },
   "cell_type": "code",
   "source": "1 < 2 and 2 > 3",
   "id": "9bdf82a4c673f3d7",
   "outputs": [
    {
     "data": {
      "text/plain": [
       "False"
      ]
     },
     "execution_count": 7,
     "metadata": {},
     "output_type": "execute_result"
    }
   ],
   "execution_count": 7
  },
  {
   "metadata": {
    "ExecuteTime": {
     "end_time": "2025-09-24T13:07:27.097137Z",
     "start_time": "2025-09-24T13:07:27.093172Z"
    }
   },
   "cell_type": "code",
   "source": "1 < 2 and 2 < 3",
   "id": "fa4f77acbf0540a3",
   "outputs": [
    {
     "data": {
      "text/plain": [
       "True"
      ]
     },
     "execution_count": 9,
     "metadata": {},
     "output_type": "execute_result"
    }
   ],
   "execution_count": 9
  },
  {
   "metadata": {
    "ExecuteTime": {
     "end_time": "2025-09-24T13:08:20.035452Z",
     "start_time": "2025-09-24T13:08:20.029935Z"
    }
   },
   "cell_type": "code",
   "source": "'h' == 'h' and 2 == 2",
   "id": "9f425a6d1325cca4",
   "outputs": [
    {
     "data": {
      "text/plain": [
       "True"
      ]
     },
     "execution_count": 11,
     "metadata": {},
     "output_type": "execute_result"
    }
   ],
   "execution_count": 11
  },
  {
   "metadata": {
    "ExecuteTime": {
     "end_time": "2025-09-24T13:09:01.806352Z",
     "start_time": "2025-09-24T13:09:01.802350Z"
    }
   },
   "cell_type": "code",
   "source": "1 == 1 or 2 == 2",
   "id": "5f7189d86438553d",
   "outputs": [
    {
     "data": {
      "text/plain": [
       "True"
      ]
     },
     "execution_count": 12,
     "metadata": {},
     "output_type": "execute_result"
    }
   ],
   "execution_count": 12
  },
  {
   "metadata": {
    "ExecuteTime": {
     "end_time": "2025-09-24T13:09:24.762875Z",
     "start_time": "2025-09-24T13:09:24.758132Z"
    }
   },
   "cell_type": "code",
   "source": "1 == 100 or 2 == 2",
   "id": "6dcea84c3b6bc611",
   "outputs": [
    {
     "data": {
      "text/plain": [
       "True"
      ]
     },
     "execution_count": 13,
     "metadata": {},
     "output_type": "execute_result"
    }
   ],
   "execution_count": 13
  },
  {
   "metadata": {
    "ExecuteTime": {
     "end_time": "2025-09-24T13:09:45.223860Z",
     "start_time": "2025-09-24T13:09:45.218968Z"
    }
   },
   "cell_type": "code",
   "source": "1 == 100 or 2 == 3",
   "id": "707ffa2dc66cd784",
   "outputs": [
    {
     "data": {
      "text/plain": [
       "False"
      ]
     },
     "execution_count": 14,
     "metadata": {},
     "output_type": "execute_result"
    }
   ],
   "execution_count": 14
  },
  {
   "metadata": {
    "ExecuteTime": {
     "end_time": "2025-09-24T13:10:12.292588Z",
     "start_time": "2025-09-24T13:10:12.288791Z"
    }
   },
   "cell_type": "code",
   "source": "not 1 == 1",
   "id": "5358b380def11057",
   "outputs": [
    {
     "data": {
      "text/plain": [
       "False"
      ]
     },
     "execution_count": 15,
     "metadata": {},
     "output_type": "execute_result"
    }
   ],
   "execution_count": 15
  }
 ],
 "metadata": {
  "kernelspec": {
   "display_name": "Python 3",
   "language": "python",
   "name": "python3"
  },
  "language_info": {
   "codemirror_mode": {
    "name": "ipython",
    "version": 2
   },
   "file_extension": ".py",
   "mimetype": "text/x-python",
   "name": "python",
   "nbconvert_exporter": "python",
   "pygments_lexer": "ipython2",
   "version": "2.7.6"
  }
 },
 "nbformat": 4,
 "nbformat_minor": 5
}
