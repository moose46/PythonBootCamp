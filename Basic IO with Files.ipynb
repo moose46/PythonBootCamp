{
 "cells": [
  {
   "metadata": {
    "collapsed": true
   },
   "cell_type": "markdown",
   "source": "[Lecture](https://www.udemycom/course/complete-python-bootcamp/learn/lecture/9388552#content/)",
   "id": "2434bb619a74fe6b"
  },
  {
   "metadata": {
    "ExecuteTime": {
     "end_time": "2025-09-23T17:26:30.623874Z",
     "start_time": "2025-09-23T17:26:30.617882Z"
    }
   },
   "cell_type": "code",
   "source": [
    "import math\n",
    "%%writefile myfile.txt\n",
    "\"Hello this is a text\"\n",
    "\"this is the second line\"\n",
    "\"this is the third line\""
   ],
   "id": "c091326982b1bbff",
   "outputs": [
    {
     "name": "stdout",
     "output_type": "stream",
     "text": [
      "Writing myfile.txt\n"
     ]
    }
   ],
   "execution_count": 5
  },
  {
   "metadata": {
    "ExecuteTime": {
     "end_time": "2025-09-23T17:27:58.245131Z",
     "start_time": "2025-09-23T17:27:58.240798Z"
    }
   },
   "cell_type": "code",
   "source": "myfile = open('myfile.txt')",
   "id": "3af399f73ec496e7",
   "outputs": [],
   "execution_count": 6
  },
  {
   "metadata": {
    "ExecuteTime": {
     "end_time": "2025-09-23T17:28:33.002238Z",
     "start_time": "2025-09-23T17:28:32.751920Z"
    }
   },
   "cell_type": "code",
   "outputs": [
    {
     "ename": "FileNotFoundError",
     "evalue": "[Errno 2] No such file or directory: 'myfile1.txt'",
     "output_type": "error",
     "traceback": [
      "\u001B[31m---------------------------------------------------------------------------\u001B[39m",
      "\u001B[31mFileNotFoundError\u001B[39m                         Traceback (most recent call last)",
      "\u001B[36mCell\u001B[39m\u001B[36m \u001B[39m\u001B[32mIn[7]\u001B[39m\u001B[32m, line 1\u001B[39m\n\u001B[32m----> \u001B[39m\u001B[32m1\u001B[39m myfile = \u001B[38;5;28;43mopen\u001B[39;49m\u001B[43m(\u001B[49m\u001B[33;43m'\u001B[39;49m\u001B[33;43mmyfile1.txt\u001B[39;49m\u001B[33;43m'\u001B[39;49m\u001B[43m)\u001B[49m\n",
      "\u001B[36mFile \u001B[39m\u001B[32m~\\PycharmProjects\\Complete Python Bootcamp\\.venv\\Lib\\site-packages\\IPython\\core\\interactiveshell.py:343\u001B[39m, in \u001B[36m_modified_open\u001B[39m\u001B[34m(file, *args, **kwargs)\u001B[39m\n\u001B[32m    336\u001B[39m \u001B[38;5;28;01mif\u001B[39;00m file \u001B[38;5;129;01min\u001B[39;00m {\u001B[32m0\u001B[39m, \u001B[32m1\u001B[39m, \u001B[32m2\u001B[39m}:\n\u001B[32m    337\u001B[39m     \u001B[38;5;28;01mraise\u001B[39;00m \u001B[38;5;167;01mValueError\u001B[39;00m(\n\u001B[32m    338\u001B[39m         \u001B[33mf\u001B[39m\u001B[33m\"\u001B[39m\u001B[33mIPython won\u001B[39m\u001B[33m'\u001B[39m\u001B[33mt let you open fd=\u001B[39m\u001B[38;5;132;01m{\u001B[39;00mfile\u001B[38;5;132;01m}\u001B[39;00m\u001B[33m by default \u001B[39m\u001B[33m\"\u001B[39m\n\u001B[32m    339\u001B[39m         \u001B[33m\"\u001B[39m\u001B[33mas it is likely to crash IPython. If you know what you are doing, \u001B[39m\u001B[33m\"\u001B[39m\n\u001B[32m    340\u001B[39m         \u001B[33m\"\u001B[39m\u001B[33myou can use builtins\u001B[39m\u001B[33m'\u001B[39m\u001B[33m open.\u001B[39m\u001B[33m\"\u001B[39m\n\u001B[32m    341\u001B[39m     )\n\u001B[32m--> \u001B[39m\u001B[32m343\u001B[39m \u001B[38;5;28;01mreturn\u001B[39;00m \u001B[43mio_open\u001B[49m\u001B[43m(\u001B[49m\u001B[43mfile\u001B[49m\u001B[43m,\u001B[49m\u001B[43m \u001B[49m\u001B[43m*\u001B[49m\u001B[43margs\u001B[49m\u001B[43m,\u001B[49m\u001B[43m \u001B[49m\u001B[43m*\u001B[49m\u001B[43m*\u001B[49m\u001B[43mkwargs\u001B[49m\u001B[43m)\u001B[49m\n",
      "\u001B[31mFileNotFoundError\u001B[39m: [Errno 2] No such file or directory: 'myfile1.txt'"
     ]
    }
   ],
   "execution_count": 7,
   "source": "myfile = open('myfile1.txt')",
   "id": "f2855247ff310956"
  },
  {
   "metadata": {
    "ExecuteTime": {
     "end_time": "2025-09-23T17:29:48.463542Z",
     "start_time": "2025-09-23T17:29:48.457048Z"
    }
   },
   "cell_type": "code",
   "source": "pwd",
   "id": "c5fd780a59f0ebea",
   "outputs": [
    {
     "data": {
      "text/plain": [
       "'C:\\\\Users\\\\me\\\\PycharmProjects\\\\Complete Python Bootcamp'"
      ]
     },
     "execution_count": 8,
     "metadata": {},
     "output_type": "execute_result"
    }
   ],
   "execution_count": 8
  },
  {
   "metadata": {
    "ExecuteTime": {
     "end_time": "2025-09-23T17:31:17.715472Z",
     "start_time": "2025-09-23T17:31:17.709970Z"
    }
   },
   "cell_type": "code",
   "source": [
    "myfile = open('myfile.txt')\n",
    "myfile.read()"
   ],
   "id": "1f2559ad0c76c59f",
   "outputs": [
    {
     "data": {
      "text/plain": [
       "'\"Hello this is a text\"\\n\"this is the second line\"\\n\"this is the third line\"\\n'"
      ]
     },
     "execution_count": 10,
     "metadata": {},
     "output_type": "execute_result"
    }
   ],
   "execution_count": 10
  },
  {
   "metadata": {
    "ExecuteTime": {
     "end_time": "2025-09-23T17:33:45.829759Z",
     "start_time": "2025-09-23T17:33:45.824233Z"
    }
   },
   "cell_type": "code",
   "source": "myfile.read()",
   "id": "332f91f8c8491ca0",
   "outputs": [
    {
     "data": {
      "text/plain": [
       "''"
      ]
     },
     "execution_count": 11,
     "metadata": {},
     "output_type": "execute_result"
    }
   ],
   "execution_count": 11
  },
  {
   "metadata": {
    "ExecuteTime": {
     "end_time": "2025-09-23T17:34:06.300006Z",
     "start_time": "2025-09-23T17:34:06.295235Z"
    }
   },
   "cell_type": "code",
   "source": [
    "myfile.seek(0)\n",
    "myfile.read()"
   ],
   "id": "f2a689c66da859db",
   "outputs": [
    {
     "data": {
      "text/plain": [
       "'\"Hello this is a text\"\\n\"this is the second line\"\\n\"this is the third line\"\\n'"
      ]
     },
     "execution_count": 12,
     "metadata": {},
     "output_type": "execute_result"
    }
   ],
   "execution_count": 12
  },
  {
   "metadata": {
    "ExecuteTime": {
     "end_time": "2025-09-23T17:34:58.929824Z",
     "start_time": "2025-09-23T17:34:58.926269Z"
    }
   },
   "cell_type": "code",
   "source": [
    "myfile.seek(0)\n",
    "myfile.readlines()"
   ],
   "id": "35758be53c864985",
   "outputs": [
    {
     "data": {
      "text/plain": [
       "['\"Hello this is a text\"\\n',\n",
       " '\"this is the second line\"\\n',\n",
       " '\"this is the third line\"\\n']"
      ]
     },
     "execution_count": 13,
     "metadata": {},
     "output_type": "execute_result"
    }
   ],
   "execution_count": 13
  },
  {
   "metadata": {
    "ExecuteTime": {
     "end_time": "2025-09-23T17:37:20.244144Z",
     "start_time": "2025-09-23T17:37:20.241594Z"
    }
   },
   "cell_type": "code",
   "source": "myfile.close()",
   "id": "139b0ff5d6febbfe",
   "outputs": [],
   "execution_count": 14
  },
  {
   "metadata": {
    "ExecuteTime": {
     "end_time": "2025-09-23T17:38:06.200478Z",
     "start_time": "2025-09-23T17:38:06.197037Z"
    }
   },
   "cell_type": "code",
   "source": [
    "with open('myfile.txt', 'r') as myfile:\n",
    "    print(myfile.readlines())"
   ],
   "id": "da83ee2a4719bd55",
   "outputs": [
    {
     "name": "stdout",
     "output_type": "stream",
     "text": [
      "['\"Hello this is a text\"\\n', '\"this is the second line\"\\n', '\"this is the third line\"\\n']\n"
     ]
    }
   ],
   "execution_count": 15
  },
  {
   "metadata": {
    "ExecuteTime": {
     "end_time": "2025-09-23T17:40:07.802574Z",
     "start_time": "2025-09-23T17:40:07.798882Z"
    }
   },
   "cell_type": "code",
   "source": [
    "with open('myfile.txt', 'r') as myfile:\n",
    "    print(myfile.readlines())"
   ],
   "id": "957c94d259a41d5d",
   "outputs": [
    {
     "name": "stdout",
     "output_type": "stream",
     "text": [
      "['\"Hello this is a text\"\\n', '\"this is the second line\"\\n', '\"this is the third line\"\\n']\n"
     ]
    }
   ],
   "execution_count": 16
  },
  {
   "metadata": {
    "ExecuteTime": {
     "end_time": "2025-09-23T17:46:12.525906Z",
     "start_time": "2025-09-23T17:46:12.521388Z"
    }
   },
   "cell_type": "code",
   "source": [
    "%%writefile my_new_file.txt\n",
    "\"Hello this is a text\"\n",
    "\"this is the second line\"\n",
    "\"this is the third line\""
   ],
   "id": "e02859986141fdf1",
   "outputs": [
    {
     "name": "stdout",
     "output_type": "stream",
     "text": [
      "Overwriting my_new_file.txt\n"
     ]
    }
   ],
   "execution_count": 25
  },
  {
   "metadata": {
    "ExecuteTime": {
     "end_time": "2025-09-23T17:45:00.082367Z",
     "start_time": "2025-09-23T17:45:00.078987Z"
    }
   },
   "cell_type": "code",
   "source": [
    "with open(\"myfile.txt\", 'r') as myfile:\n",
    "    print(myfile.readlines())"
   ],
   "id": "3aeb8d1009be2290",
   "outputs": [
    {
     "name": "stdout",
     "output_type": "stream",
     "text": [
      "['\"Hello this is a text\"\\n', '\"this is the second line\"\\n', '\"this is the third line\"\\n']\n"
     ]
    }
   ],
   "execution_count": 21
  },
  {
   "metadata": {
    "ExecuteTime": {
     "end_time": "2025-09-23T17:46:18.321028Z",
     "start_time": "2025-09-23T17:46:18.317283Z"
    }
   },
   "cell_type": "code",
   "source": [
    "with open(\"my_new_file.txt\", 'a') as myfile:\n",
    "    myfile.write(\"\\nHello this is new text\")"
   ],
   "id": "d3ff0b01ab3dce6e",
   "outputs": [],
   "execution_count": 26
  },
  {
   "metadata": {
    "ExecuteTime": {
     "end_time": "2025-09-23T17:46:20.340755Z",
     "start_time": "2025-09-23T17:46:20.336853Z"
    }
   },
   "cell_type": "code",
   "source": [
    "with open(\"my_new_file.txt\", 'r') as myfile:\n",
    "   print(myfile.readlines())"
   ],
   "id": "47bf2ed8140e28ca",
   "outputs": [
    {
     "name": "stdout",
     "output_type": "stream",
     "text": [
      "['\"Hello this is a text\"\\n', '\"this is the second line\"\\n', '\"this is the third line\"\\n', 'Hello this is new text']\n"
     ]
    }
   ],
   "execution_count": 27
  },
  {
   "metadata": {},
   "cell_type": "markdown",
   "source": [
    "[python challenge]<http://www.pythonchallenge.com/>\n",
    "\n",
    "[2](https://www.reddit.com/r/dailyprogrammer)\n",
    "\n",
    "[3](http://www.codeabbey.com/index/task_list)\n",
    "\n",
    "[4](https://projecteuler.net/archives)\n",
    "\n",
    "<http://codingbat.com/python>\n"
   ],
   "id": "27d67aa766d715ef"
  },
  {
   "metadata": {
    "ExecuteTime": {
     "end_time": "2025-09-23T19:03:13.729649Z",
     "start_time": "2025-09-23T19:03:13.725689Z"
    }
   },
   "cell_type": "code",
   "source": [
    "4 * (6+5)\n",
    "4 * 6 + 5\n",
    "4 + 6 * 5\n",
    "print(9**(1/2))\n",
    "3**2"
   ],
   "id": "bb30a2a5b2b05293",
   "outputs": [
    {
     "name": "stdout",
     "output_type": "stream",
     "text": [
      "3.0\n"
     ]
    },
    {
     "data": {
      "text/plain": [
       "9"
      ]
     },
     "execution_count": 13,
     "metadata": {},
     "output_type": "execute_result"
    }
   ],
   "execution_count": 13
  },
  {
   "metadata": {
    "ExecuteTime": {
     "end_time": "2025-09-24T12:49:56.567141Z",
     "start_time": "2025-09-24T12:49:56.561556Z"
    }
   },
   "cell_type": "code",
   "source": [
    "x =(3,2,1)\n",
    "x\n"
   ],
   "id": "b74f23636c3f3626",
   "outputs": [
    {
     "data": {
      "text/plain": [
       "(3, 2, 1)"
      ]
     },
     "execution_count": 16,
     "metadata": {},
     "output_type": "execute_result"
    }
   ],
   "execution_count": 16
  }
 ],
 "metadata": {
  "kernelspec": {
   "display_name": "Python 3",
   "language": "python",
   "name": "python3"
  },
  "language_info": {
   "codemirror_mode": {
    "name": "ipython",
    "version": 2
   },
   "file_extension": ".py",
   "mimetype": "text/x-python",
   "name": "python",
   "nbconvert_exporter": "python",
   "pygments_lexer": "ipython2",
   "version": "2.7.6"
  }
 },
 "nbformat": 4,
 "nbformat_minor": 5
}
