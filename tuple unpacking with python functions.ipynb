{
 "cells": [
  {
   "metadata": {
    "collapsed": true
   },
   "cell_type": "markdown",
   "source": "https://www.udemy.com/course/complete-python-bootcamp/learn/lecture/20548624#overview",
   "id": "486e32e91c7154b5"
  },
  {
   "metadata": {
    "ExecuteTime": {
     "end_time": "2025-09-25T13:12:58.753271Z",
     "start_time": "2025-09-25T13:12:58.749685Z"
    }
   },
   "cell_type": "code",
   "source": [
    "stock_prices = [('APPL', 200), ('GOOG', 400),('MSFT', 300), ('AAPL', 400),('MSFT', 300),]\n",
    "for item in stock_prices:\n",
    "    print(item)"
   ],
   "id": "3add16ab4ec128d1",
   "outputs": [
    {
     "name": "stdout",
     "output_type": "stream",
     "text": [
      "('APPL', 200)\n",
      "('GOOG', 400)\n",
      "('MSFT', 300)\n",
      "('AAPL', 400)\n",
      "('MSFT', 300)\n"
     ]
    }
   ],
   "execution_count": 5
  },
  {
   "metadata": {
    "ExecuteTime": {
     "end_time": "2025-09-25T13:13:44.750576Z",
     "start_time": "2025-09-25T13:13:44.746569Z"
    }
   },
   "cell_type": "code",
   "source": [
    "for ticker, price in stock_prices:\n",
    "    print(ticker, price)"
   ],
   "id": "792a7df7412ec25f",
   "outputs": [
    {
     "name": "stdout",
     "output_type": "stream",
     "text": [
      "APPL 200\n",
      "GOOG 400\n",
      "MSFT 300\n",
      "AAPL 400\n",
      "MSFT 300\n"
     ]
    }
   ],
   "execution_count": 6
  },
  {
   "metadata": {
    "ExecuteTime": {
     "end_time": "2025-09-25T13:23:49.834127Z",
     "start_time": "2025-09-25T13:23:49.830057Z"
    }
   },
   "cell_type": "code",
   "source": [
    "work_hours = [('Abby', 100),('Billy', 400),('Cassie', 800)]\n",
    "def employee_check(work_hours):\n",
    "    current_max = 0\n",
    "    employee_of_month = ''\n",
    "    for employee, hours in work_hours:\n",
    "        if hours > current_max:\n",
    "            employee_of_month = employee\n",
    "            current_max = hours\n",
    "    return employee_of_month, current_max\n",
    "\n",
    "print(employee_check(work_hours))\n",
    "name, hours = employee_check(work_hours)\n",
    "print(f'Employee Name: {name} Hours: {hours}')"
   ],
   "id": "6e75b4e0e8ce5115",
   "outputs": [
    {
     "name": "stdout",
     "output_type": "stream",
     "text": [
      "('Cassie', 800)\n",
      "Employee Name: Cassie Hours: 800\n"
     ]
    }
   ],
   "execution_count": 15
  }
 ],
 "metadata": {
  "kernelspec": {
   "display_name": "Python 3",
   "language": "python",
   "name": "python3"
  },
  "language_info": {
   "codemirror_mode": {
    "name": "ipython",
    "version": 2
   },
   "file_extension": ".py",
   "mimetype": "text/x-python",
   "name": "python",
   "nbconvert_exporter": "python",
   "pygments_lexer": "ipython2",
   "version": "2.7.6"
  }
 },
 "nbformat": 4,
 "nbformat_minor": 5
}
