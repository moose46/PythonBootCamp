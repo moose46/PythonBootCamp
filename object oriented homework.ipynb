{
 "cells": [
  {
   "metadata": {
    "collapsed": true
   },
   "cell_type": "markdown",
   "source": [
    "`distance = sqrt((x2 - x1) + (y2 - y1))`\n",
    "\n",
    "`slope = m = (y2 - y1) / (x2 - x1)`\n",
    "\n",
    "`volume = 4/3 pi * r^3`\n",
    "\n",
    "`surface area = 4 pi * r^2`"
   ],
   "id": "7a7fa28d5a53844f"
  },
  {
   "metadata": {
    "ExecuteTime": {
     "end_time": "2025-10-07T19:48:45.483489Z",
     "start_time": "2025-10-07T19:48:45.479984Z"
    }
   },
   "cell_type": "code",
   "source": [
    "from pygments.lexer import include\n",
    "import math\n",
    "\n",
    "class Line():\n",
    "    def __init__(self, coor1, coor2):\n",
    "        self.x1,self.y1 = coor1\n",
    "        self.x2,self.y2 = coor2\n",
    "\n",
    "    def distance(self):\n",
    "        return ((self.x2 - self.x1)**2 + (self.y2 - self.y1)**2)**0.5\n",
    "    def slope(self):\n",
    "        return (self.y2 - self.y1) / (self.x2 - self.x1)\n",
    "\n",
    "class Cylinder():\n",
    "    def __init__(self, height=1, radius=1):\n",
    "        self.height = height\n",
    "        self.radius = radius\n",
    "    def volume (self):\n",
    "        return self.height * 3.14 * (self.radius) **2\n",
    "    def area(self):\n",
    "        return self.height * self.radius * 3.14\n",
    "    def surface_area(self):\n",
    "        top = 3.14 * (self.radius**2)\n",
    "\n",
    "        return (2 * top) + (2*3.14*self.radius*self.height)\n",
    "\n"
   ],
   "id": "1c89388a68757a7c",
   "outputs": [],
   "execution_count": 28
  },
  {
   "metadata": {
    "ExecuteTime": {
     "end_time": "2025-10-07T20:18:48.446061Z",
     "start_time": "2025-10-07T20:18:48.442577Z"
    }
   },
   "cell_type": "code",
   "source": [
    "l = Line((-3,2), (8,5))\n",
    "print(l.distance())\n",
    "print(l.slope())"
   ],
   "id": "d2efd59d196cabb2",
   "outputs": [
    {
     "name": "stdout",
     "output_type": "stream",
     "text": [
      "11.40175425099138\n",
      "0.2727272727272727\n"
     ]
    }
   ],
   "execution_count": 30
  },
  {
   "metadata": {
    "ExecuteTime": {
     "end_time": "2025-10-07T19:48:48.250080Z",
     "start_time": "2025-10-07T19:48:48.246077Z"
    }
   },
   "cell_type": "code",
   "source": [
    "c = Cylinder(height=2, radius=3)\n",
    "print(c.volume())\n",
    "print(c.surface_area())"
   ],
   "id": "6dc3d3ed4f6aa27d",
   "outputs": [
    {
     "name": "stdout",
     "output_type": "stream",
     "text": [
      "56.52\n",
      "94.2\n"
     ]
    }
   ],
   "execution_count": 29
  }
 ],
 "metadata": {
  "kernelspec": {
   "display_name": "Python 3",
   "language": "python",
   "name": "python3"
  },
  "language_info": {
   "codemirror_mode": {
    "name": "ipython",
    "version": 2
   },
   "file_extension": ".py",
   "mimetype": "text/x-python",
   "name": "python",
   "nbconvert_exporter": "python",
   "pygments_lexer": "ipython2",
   "version": "2.7.6"
  }
 },
 "nbformat": 4,
 "nbformat_minor": 5
}
