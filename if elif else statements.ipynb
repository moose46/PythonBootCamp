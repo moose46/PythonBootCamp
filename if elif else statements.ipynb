{
 "cells": [
  {
   "cell_type": "code",
   "id": "initial_id",
   "metadata": {
    "collapsed": true,
    "ExecuteTime": {
     "end_time": "2025-09-24T14:38:22.727659Z",
     "start_time": "2025-09-24T14:38:22.722710Z"
    }
   },
   "source": [
    "x =True\n",
    "if x:\n",
    "    print(\"x is true\")\n",
    "else:\n",
    "    print(\"x is false\")\n"
   ],
   "outputs": [
    {
     "name": "stdout",
     "output_type": "stream",
     "text": [
      "x is true\n"
     ]
    }
   ],
   "execution_count": 2
  },
  {
   "metadata": {
    "ExecuteTime": {
     "end_time": "2025-09-24T14:43:07.396532Z",
     "start_time": "2025-09-24T14:43:07.394028Z"
    }
   },
   "cell_type": "code",
   "source": [
    "loc = 'Bankx'\n",
    "if loc == 'Bank':\n",
    "    print(\"Bank is working\")\n",
    "elif loc == 'bank':\n",
    "    print(\"bank is working\")\n",
    "else:\n",
    "    print(\"Bank is not working\")"
   ],
   "id": "43e3a6c9a89ab9d7",
   "outputs": [
    {
     "name": "stdout",
     "output_type": "stream",
     "text": [
      "Bank is not working\n"
     ]
    }
   ],
   "execution_count": 4
  },
  {
   "metadata": {
    "ExecuteTime": {
     "end_time": "2025-09-24T14:44:15.257742Z",
     "start_time": "2025-09-24T14:44:15.254221Z"
    }
   },
   "cell_type": "code",
   "source": [
    "name = 'Sammy'\n",
    "if name == 'Sammy':\n",
    "    print(\"Sammy is working\")\n",
    "else:\n",
    "    print(\"Sammy is not working\")"
   ],
   "id": "aa8852dd9db1435c",
   "outputs": [
    {
     "name": "stdout",
     "output_type": "stream",
     "text": [
      "Sammy is working\n"
     ]
    }
   ],
   "execution_count": 5
  },
  {
   "metadata": {},
   "cell_type": "code",
   "outputs": [],
   "execution_count": null,
   "source": "",
   "id": "a3c9fa4244493c04"
  }
 ],
 "metadata": {
  "kernelspec": {
   "display_name": "Python 3",
   "language": "python",
   "name": "python3"
  },
  "language_info": {
   "codemirror_mode": {
    "name": "ipython",
    "version": 2
   },
   "file_extension": ".py",
   "mimetype": "text/x-python",
   "name": "python",
   "nbconvert_exporter": "python",
   "pygments_lexer": "ipython2",
   "version": "2.7.6"
  }
 },
 "nbformat": 4,
 "nbformat_minor": 5
}
