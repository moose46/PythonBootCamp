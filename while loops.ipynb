{
 "cells": [
  {
   "cell_type": "code",
   "execution_count": null,
   "id": "initial_id",
   "metadata": {
    "collapsed": true
   },
   "outputs": [],
   "source": "<https://www.udemy.com/course/complete-python-bootcamp/learn/lecture/9407964#overview>"
  },
  {
   "metadata": {
    "ExecuteTime": {
     "end_time": "2025-09-24T15:17:14.723156Z",
     "start_time": "2025-09-24T15:17:14.719704Z"
    }
   },
   "cell_type": "code",
   "source": [
    "x = 0\n",
    "while x < 5:\n",
    "    print(f'The current value of x is {x}')\n",
    "    x += 1\n",
    "else:\n",
    "    print(f'The current value of x is {x} and is not less than 5 ')"
   ],
   "id": "3737d4583864b225",
   "outputs": [
    {
     "name": "stdout",
     "output_type": "stream",
     "text": [
      "The current value of x is 0\n",
      "The current value of x is 1\n",
      "The current value of x is 2\n",
      "The current value of x is 3\n",
      "The current value of x is 4\n",
      "The current value of x is 5 and is not less than 5 \n"
     ]
    }
   ],
   "execution_count": 5
  },
  {
   "metadata": {
    "ExecuteTime": {
     "end_time": "2025-09-24T15:17:57.975852Z",
     "start_time": "2025-09-24T15:17:57.971524Z"
    }
   },
   "cell_type": "code",
   "source": [
    "x = [1, 2, 3, 4, 5]\n",
    "for item in x:\n",
    "    print(item)"
   ],
   "id": "40b458e3b5b18792",
   "outputs": [
    {
     "name": "stdout",
     "output_type": "stream",
     "text": [
      "1\n",
      "2\n",
      "3\n",
      "4\n",
      "5\n"
     ]
    }
   ],
   "execution_count": 6
  },
  {
   "metadata": {
    "ExecuteTime": {
     "end_time": "2025-09-24T15:21:02.485542Z",
     "start_time": "2025-09-24T15:21:02.482640Z"
    }
   },
   "cell_type": "code",
   "source": [
    "mystring = 'Sammy'\n",
    "for item in mystring:\n",
    "    if item == 'a':\n",
    "        continue\n",
    "    if item == 'm':\n",
    "        break\n",
    "    print(item)"
   ],
   "id": "5bd507a4931edec",
   "outputs": [
    {
     "name": "stdout",
     "output_type": "stream",
     "text": [
      "S\n"
     ]
    }
   ],
   "execution_count": 9
  },
  {
   "metadata": {
    "ExecuteTime": {
     "end_time": "2025-09-24T15:23:10.708233Z",
     "start_time": "2025-09-24T15:23:10.704224Z"
    }
   },
   "cell_type": "code",
   "source": [
    "x = 0\n",
    "while x < 5:\n",
    "    print(x)\n",
    "    if x == 2:\n",
    "        break\n",
    "    x  += 1"
   ],
   "id": "622520067f503797",
   "outputs": [
    {
     "name": "stdout",
     "output_type": "stream",
     "text": [
      "0\n",
      "1\n",
      "2\n"
     ]
    }
   ],
   "execution_count": 13
  }
 ],
 "metadata": {
  "kernelspec": {
   "display_name": "Python 3",
   "language": "python",
   "name": "python3"
  },
  "language_info": {
   "codemirror_mode": {
    "name": "ipython",
    "version": 2
   },
   "file_extension": ".py",
   "mimetype": "text/x-python",
   "name": "python",
   "nbconvert_exporter": "python",
   "pygments_lexer": "ipython2",
   "version": "2.7.6"
  }
 },
 "nbformat": 4,
 "nbformat_minor": 5
}
