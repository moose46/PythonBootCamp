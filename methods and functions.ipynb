{
 "cells": [
  {
   "metadata": {
    "collapsed": true
   },
   "cell_type": "markdown",
   "source": "<https://www.udemy.com/course/complete-python-bootcamp/learn/lecture/9407974#overview>",
   "id": "643f24af2cef8453"
  },
  {
   "metadata": {
    "ExecuteTime": {
     "end_time": "2025-09-24T17:20:04.598577Z",
     "start_time": "2025-09-24T17:20:04.593543Z"
    }
   },
   "cell_type": "code",
   "source": [
    "mylist = [1,2,3,4,5]\n",
    "mylist.append(6)\n",
    "print(mylist)"
   ],
   "id": "7c3c7589ff5082e0",
   "outputs": [
    {
     "name": "stdout",
     "output_type": "stream",
     "text": [
      "[1, 2, 3, 4, 5, 6]\n"
     ]
    }
   ],
   "execution_count": 1
  },
  {
   "metadata": {
    "ExecuteTime": {
     "end_time": "2025-09-24T17:27:12.597197Z",
     "start_time": "2025-09-24T17:27:12.594280Z"
    }
   },
   "cell_type": "code",
   "source": [
    "# [Python Docs](https://docs.python.org/3/)\n",
    "help(mylist.insert)"
   ],
   "id": "cc56733053ae1c72",
   "outputs": [
    {
     "name": "stdout",
     "output_type": "stream",
     "text": [
      "Help on built-in function insert:\n",
      "\n",
      "insert(index, object, /) method of builtins.list instance\n",
      "    Insert object before index.\n",
      "\n"
     ]
    }
   ],
   "execution_count": 5
  },
  {
   "metadata": {
    "ExecuteTime": {
     "end_time": "2025-09-24T17:32:11.434641Z",
     "start_time": "2025-09-24T17:32:11.431099Z"
    }
   },
   "cell_type": "code",
   "source": [
    "from platform import python_version\n",
    "print(python_version())"
   ],
   "id": "7dce964b43d4d07c",
   "outputs": [
    {
     "name": "stdout",
     "output_type": "stream",
     "text": [
      "3.12.3\n"
     ]
    }
   ],
   "execution_count": 6
  }
 ],
 "metadata": {
  "kernelspec": {
   "display_name": "Python 3",
   "language": "python",
   "name": "python3"
  },
  "language_info": {
   "codemirror_mode": {
    "name": "ipython",
    "version": 2
   },
   "file_extension": ".py",
   "mimetype": "text/x-python",
   "name": "python",
   "nbconvert_exporter": "python",
   "pygments_lexer": "ipython2",
   "version": "2.7.6"
  }
 },
 "nbformat": 4,
 "nbformat_minor": 5
}
