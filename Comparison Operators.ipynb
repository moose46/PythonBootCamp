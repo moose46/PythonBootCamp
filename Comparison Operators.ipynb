{
 "cells": [
  {
   "metadata": {
    "collapsed": true
   },
   "cell_type": "markdown",
   "source": "<https://www.udemy.com/course/complete-python-bootcamp/learn/lecture/9407954#overview>",
   "id": "36be9fd719343f9d"
  },
  {
   "metadata": {
    "ExecuteTime": {
     "end_time": "2025-09-24T13:01:20.689561Z",
     "start_time": "2025-09-24T13:01:20.683020Z"
    }
   },
   "cell_type": "code",
   "source": "2 == 2",
   "id": "5428f67ec71d2715",
   "outputs": [
    {
     "data": {
      "text/plain": [
       "True"
      ]
     },
     "execution_count": 1,
     "metadata": {},
     "output_type": "execute_result"
    }
   ],
   "execution_count": 1
  },
  {
   "metadata": {
    "ExecuteTime": {
     "end_time": "2025-09-24T13:01:45.187591Z",
     "start_time": "2025-09-24T13:01:45.184080Z"
    }
   },
   "cell_type": "code",
   "source": "2 == 1",
   "id": "ab851b886caa0e63",
   "outputs": [
    {
     "data": {
      "text/plain": [
       "False"
      ]
     },
     "execution_count": 3,
     "metadata": {},
     "output_type": "execute_result"
    }
   ],
   "execution_count": 3
  },
  {
   "metadata": {
    "ExecuteTime": {
     "end_time": "2025-09-24T13:02:24.624588Z",
     "start_time": "2025-09-24T13:02:24.620224Z"
    }
   },
   "cell_type": "code",
   "source": "'Bye' == 'bye'",
   "id": "9d4387d554634d36",
   "outputs": [
    {
     "data": {
      "text/plain": [
       "False"
      ]
     },
     "execution_count": 4,
     "metadata": {},
     "output_type": "execute_result"
    }
   ],
   "execution_count": 4
  },
  {
   "metadata": {
    "ExecuteTime": {
     "end_time": "2025-09-24T13:02:38.292039Z",
     "start_time": "2025-09-24T13:02:38.288030Z"
    }
   },
   "cell_type": "code",
   "source": "2.0 == 2",
   "id": "e19d5279295c219e",
   "outputs": [
    {
     "data": {
      "text/plain": [
       "True"
      ]
     },
     "execution_count": 5,
     "metadata": {},
     "output_type": "execute_result"
    }
   ],
   "execution_count": 5
  },
  {
   "metadata": {
    "ExecuteTime": {
     "end_time": "2025-09-24T13:03:23.621165Z",
     "start_time": "2025-09-24T13:03:23.617266Z"
    }
   },
   "cell_type": "code",
   "source": "3 != 3",
   "id": "d8fde97d15013911",
   "outputs": [
    {
     "data": {
      "text/plain": [
       "False"
      ]
     },
     "execution_count": 7,
     "metadata": {},
     "output_type": "execute_result"
    }
   ],
   "execution_count": 7
  },
  {
   "metadata": {
    "ExecuteTime": {
     "end_time": "2025-09-24T13:03:55.881173Z",
     "start_time": "2025-09-24T13:03:55.877688Z"
    }
   },
   "cell_type": "code",
   "source": "2 > 3",
   "id": "506f4cb7f2ebadc5",
   "outputs": [
    {
     "data": {
      "text/plain": [
       "False"
      ]
     },
     "execution_count": 8,
     "metadata": {},
     "output_type": "execute_result"
    }
   ],
   "execution_count": 8
  }
 ],
 "metadata": {
  "kernelspec": {
   "display_name": "Python 3",
   "language": "python",
   "name": "python3"
  },
  "language_info": {
   "codemirror_mode": {
    "name": "ipython",
    "version": 2
   },
   "file_extension": ".py",
   "mimetype": "text/x-python",
   "name": "python",
   "nbconvert_exporter": "python",
   "pygments_lexer": "ipython2",
   "version": "2.7.6"
  }
 },
 "nbformat": 4,
 "nbformat_minor": 5
}
