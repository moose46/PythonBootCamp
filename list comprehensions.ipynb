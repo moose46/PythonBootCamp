{
 "cells": [
  {
   "metadata": {
    "collapsed": true
   },
   "cell_type": "markdown",
   "source": "<https://www.udemy.com/course/complete-python-bootcamp/learn/lecture/9407966#overview>",
   "id": "289a94378042802e"
  },
  {
   "metadata": {
    "ExecuteTime": {
     "end_time": "2025-09-24T15:51:02.564010Z",
     "start_time": "2025-09-24T15:51:02.559734Z"
    }
   },
   "cell_type": "code",
   "source": [
    "from ListsInPython import mylist\n",
    "from PrintFormattingWithStrings import mystring\n",
    "\n",
    "mystring = 'hello world'\n",
    "mylist = []\n",
    "for item in mystring:\n",
    "    mylist.append(item)\n",
    "print(mylist)"
   ],
   "id": "6ebe9ab06421e72c",
   "outputs": [
    {
     "name": "stdout",
     "output_type": "stream",
     "text": [
      "['h', 'e', 'l', 'l', 'o', ' ', 'w', 'o', 'r', 'l', 'd']\n"
     ]
    }
   ],
   "execution_count": 2
  },
  {
   "metadata": {
    "ExecuteTime": {
     "end_time": "2025-09-24T15:52:49.288190Z",
     "start_time": "2025-09-24T15:52:49.283677Z"
    }
   },
   "cell_type": "code",
   "source": [
    "mylist = [letter for letter in mystring]\n",
    "print(mylist)"
   ],
   "id": "a0c24bf48326a389",
   "outputs": [
    {
     "name": "stdout",
     "output_type": "stream",
     "text": [
      "['h', 'e', 'l', 'l', 'o', ' ', 'w', 'o', 'r', 'l', 'd']\n"
     ]
    }
   ],
   "execution_count": 7
  },
  {
   "metadata": {
    "ExecuteTime": {
     "end_time": "2025-09-24T15:54:10.292315Z",
     "start_time": "2025-09-24T15:54:10.288170Z"
    }
   },
   "cell_type": "code",
   "source": [
    "mylist = [x for x in range(10)]\n",
    "print(mylist)"
   ],
   "id": "3faaabda2253857",
   "outputs": [
    {
     "name": "stdout",
     "output_type": "stream",
     "text": [
      "[0, 1, 2, 3, 4, 5, 6, 7, 8, 9]\n"
     ]
    }
   ],
   "execution_count": 8
  },
  {
   "metadata": {
    "ExecuteTime": {
     "end_time": "2025-09-24T15:54:42.569834Z",
     "start_time": "2025-09-24T15:54:42.566833Z"
    }
   },
   "cell_type": "code",
   "source": [
    "mylist = [x**2 for x in range(10)]\n",
    "print(mylist)"
   ],
   "id": "3ccc21670c7bfe4c",
   "outputs": [
    {
     "name": "stdout",
     "output_type": "stream",
     "text": [
      "[0, 1, 4, 9, 16, 25, 36, 49, 64, 81]\n"
     ]
    }
   ],
   "execution_count": 9
  },
  {
   "metadata": {
    "ExecuteTime": {
     "end_time": "2025-09-24T15:56:08.076963Z",
     "start_time": "2025-09-24T15:56:08.073455Z"
    }
   },
   "cell_type": "code",
   "source": [
    "mylist = [x for x in range(0,11) if x% 2 == 0]\n",
    "print(mylist)"
   ],
   "id": "d9e817b96306909a",
   "outputs": [
    {
     "name": "stdout",
     "output_type": "stream",
     "text": [
      "[0, 2, 4, 6, 8, 10]\n"
     ]
    }
   ],
   "execution_count": 10
  },
  {
   "metadata": {
    "ExecuteTime": {
     "end_time": "2025-09-24T15:58:55.376360Z",
     "start_time": "2025-09-24T15:58:55.372360Z"
    }
   },
   "cell_type": "code",
   "source": [
    "celcius = [0,10,20,24.5]\n",
    "fahrenheit = [((9/5)* temp + 32) for temp in celcius]\n",
    "print(fahrenheit)"
   ],
   "id": "f265b17b131aae25",
   "outputs": [
    {
     "name": "stdout",
     "output_type": "stream",
     "text": [
      "[32.0, 50.0, 68.0, 76.1]\n"
     ]
    }
   ],
   "execution_count": 12
  },
  {
   "metadata": {
    "ExecuteTime": {
     "end_time": "2025-09-24T16:00:36.785997Z",
     "start_time": "2025-09-24T16:00:36.782383Z"
    }
   },
   "cell_type": "code",
   "source": [
    "fahrenheit = []\n",
    "\n",
    "for temp in celcius:\n",
    "    fahrenheit.append(temp * 1.8 + 32)\n",
    "print(fahrenheit)"
   ],
   "id": "22e7be57cd03dcee",
   "outputs": [
    {
     "name": "stdout",
     "output_type": "stream",
     "text": [
      "[32.0, 50.0, 68.0, 76.1]\n"
     ]
    }
   ],
   "execution_count": 14
  },
  {
   "metadata": {
    "ExecuteTime": {
     "end_time": "2025-09-24T16:02:41.666073Z",
     "start_time": "2025-09-24T16:02:41.661358Z"
    }
   },
   "cell_type": "code",
   "source": [
    "results = [x if x%2 == 0 else 'ODD' for x in fahrenheit]\n",
    "print(results)"
   ],
   "id": "8dcd2d468ec0a051",
   "outputs": [
    {
     "name": "stdout",
     "output_type": "stream",
     "text": [
      "[32.0, 50.0, 68.0, 'ODD']\n"
     ]
    }
   ],
   "execution_count": 16
  },
  {
   "metadata": {
    "ExecuteTime": {
     "end_time": "2025-09-24T16:04:08.954505Z",
     "start_time": "2025-09-24T16:04:08.950260Z"
    }
   },
   "cell_type": "code",
   "source": [
    "mylist = []\n",
    "for x in [2,3,4,5]:\n",
    "    for y in [2,3,4,5]:\n",
    "        mylist.append(x*y)\n",
    "print(mylist)"
   ],
   "id": "985bf3843a5a7753",
   "outputs": [
    {
     "name": "stdout",
     "output_type": "stream",
     "text": [
      "[4, 6, 8, 10, 6, 9, 12, 15, 8, 12, 16, 20, 10, 15, 20, 25]\n"
     ]
    }
   ],
   "execution_count": 18
  },
  {
   "metadata": {
    "ExecuteTime": {
     "end_time": "2025-09-24T16:53:23.758318Z",
     "start_time": "2025-09-24T16:53:23.753813Z"
    }
   },
   "cell_type": "code",
   "source": [
    "mylist = [x*y for x in [2,3,4,5] for y in [2,3,4,5]]\n",
    "print(mylist)"
   ],
   "id": "b36951cfb5247e7b",
   "outputs": [
    {
     "name": "stdout",
     "output_type": "stream",
     "text": [
      "[4, 6, 8, 10, 6, 9, 12, 15, 8, 12, 16, 20, 10, 15, 20, 25]\n"
     ]
    }
   ],
   "execution_count": 20
  }
 ],
 "metadata": {
  "kernelspec": {
   "display_name": "Python 3",
   "language": "python",
   "name": "python3"
  },
  "language_info": {
   "codemirror_mode": {
    "name": "ipython",
    "version": 2
   },
   "file_extension": ".py",
   "mimetype": "text/x-python",
   "name": "python",
   "nbconvert_exporter": "python",
   "pygments_lexer": "ipython2",
   "version": "2.7.6"
  }
 },
 "nbformat": 4,
 "nbformat_minor": 5
}
