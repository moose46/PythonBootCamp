{
 "cells": [
  {
   "metadata": {
    "collapsed": true
   },
   "cell_type": "markdown",
   "source": "",
   "id": "55ff0b1f5db8e7c7"
  },
  {
   "metadata": {
    "ExecuteTime": {
     "end_time": "2025-09-24T17:33:13.434024Z",
     "start_time": "2025-09-24T17:33:13.430518Z"
    }
   },
   "cell_type": "code",
   "source": [
    "from platform import python_version\n",
    "print(python_version())"
   ],
   "id": "fa9b01bfe55428b1",
   "outputs": [
    {
     "name": "stdout",
     "output_type": "stream",
     "text": [
      "3.12.3\n"
     ]
    }
   ],
   "execution_count": 1
  },
  {
   "metadata": {
    "ExecuteTime": {
     "end_time": "2025-09-24T17:39:24.916343Z",
     "start_time": "2025-09-24T17:39:24.913377Z"
    }
   },
   "cell_type": "code",
   "source": [
    "# def name_of_function(): / snake casing\n",
    "def my_func():\n",
    "    \"My Function\"\n",
    "    print(python_version())\n",
    "my_func()"
   ],
   "id": "d1ec2672ea05726e",
   "outputs": [
    {
     "name": "stdout",
     "output_type": "stream",
     "text": [
      "3.12.3\n"
     ]
    }
   ],
   "execution_count": 4
  },
  {
   "metadata": {
    "ExecuteTime": {
     "end_time": "2025-09-24T17:40:46.157475Z",
     "start_time": "2025-09-24T17:40:46.153994Z"
    }
   },
   "cell_type": "code",
   "source": [
    "def my_func(name):\n",
    "    print(f\"Hello {name}\")\n",
    "    return name\n",
    "print(my_func('Bob'))\n"
   ],
   "id": "e5e62184bfe0b864",
   "outputs": [
    {
     "name": "stdout",
     "output_type": "stream",
     "text": [
      "Hello Bob\n",
      "Bob\n"
     ]
    }
   ],
   "execution_count": 6
  }
 ],
 "metadata": {
  "kernelspec": {
   "display_name": "Python 3",
   "language": "python",
   "name": "python3"
  },
  "language_info": {
   "codemirror_mode": {
    "name": "ipython",
    "version": 2
   },
   "file_extension": ".py",
   "mimetype": "text/x-python",
   "name": "python",
   "nbconvert_exporter": "python",
   "pygments_lexer": "ipython2",
   "version": "2.7.6"
  }
 },
 "nbformat": 4,
 "nbformat_minor": 5
}
