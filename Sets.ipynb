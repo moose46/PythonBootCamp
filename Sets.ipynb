{
 "cells": [
  {
   "metadata": {
    "collapsed": true
   },
   "cell_type": "markdown",
   "source": "<https://www.udemy.com/course/complete-python-bootcamp/learn/lecture/9388544#content>",
   "id": "6b9db007201b6f3f"
  },
  {
   "metadata": {},
   "cell_type": "markdown",
   "source": "",
   "id": "cc2864942ce5079e"
  },
  {
   "metadata": {
    "ExecuteTime": {
     "end_time": "2025-09-23T15:45:26.146589Z",
     "start_time": "2025-09-23T15:45:26.141420Z"
    }
   },
   "cell_type": "code",
   "source": "myset = set()",
   "id": "23271c5926da6796",
   "outputs": [],
   "execution_count": 1
  },
  {
   "metadata": {
    "ExecuteTime": {
     "end_time": "2025-09-23T15:45:57.348025Z",
     "start_time": "2025-09-23T15:45:57.343756Z"
    }
   },
   "cell_type": "code",
   "source": [
    "myset.add(1)\n",
    "myset.add(2)\n",
    "myset"
   ],
   "id": "422ac3fd0b4230f7",
   "outputs": [
    {
     "data": {
      "text/plain": [
       "{1, 2}"
      ]
     },
     "execution_count": 2,
     "metadata": {},
     "output_type": "execute_result"
    }
   ],
   "execution_count": 2
  },
  {
   "metadata": {
    "ExecuteTime": {
     "end_time": "2025-09-23T15:46:39.802787Z",
     "start_time": "2025-09-23T15:46:39.799081Z"
    }
   },
   "cell_type": "code",
   "source": [
    "myset.add(1)\n",
    "myset"
   ],
   "id": "5a2d78f6d256e7a4",
   "outputs": [
    {
     "data": {
      "text/plain": [
       "{1, 2}"
      ]
     },
     "execution_count": 4,
     "metadata": {},
     "output_type": "execute_result"
    }
   ],
   "execution_count": 4
  },
  {
   "metadata": {
    "ExecuteTime": {
     "end_time": "2025-09-23T15:48:55.534621Z",
     "start_time": "2025-09-23T15:48:55.531108Z"
    }
   },
   "cell_type": "code",
   "source": "set('Mississpippi')",
   "id": "18b9a4200218fd58",
   "outputs": [
    {
     "data": {
      "text/plain": [
       "{'M', 'i', 'p', 's'}"
      ]
     },
     "execution_count": 5,
     "metadata": {},
     "output_type": "execute_result"
    }
   ],
   "execution_count": 5
  }
 ],
 "metadata": {
  "kernelspec": {
   "display_name": "Python 3",
   "language": "python",
   "name": "python3"
  },
  "language_info": {
   "codemirror_mode": {
    "name": "ipython",
    "version": 2
   },
   "file_extension": ".py",
   "mimetype": "text/x-python",
   "name": "python",
   "nbconvert_exporter": "python",
   "pygments_lexer": "ipython2",
   "version": "2.7.6"
  }
 },
 "nbformat": 4,
 "nbformat_minor": 5
}
