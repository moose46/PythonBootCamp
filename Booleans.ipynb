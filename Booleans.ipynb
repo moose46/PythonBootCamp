{
 "cells": [
  {
   "metadata": {
    "collapsed": true
   },
   "cell_type": "markdown",
   "source": "<https://www.udemy.com/course/complete-python-bootcamp/learn/lecture/9388546#content>",
   "id": "7c15d37cd060eb88"
  },
  {
   "metadata": {
    "ExecuteTime": {
     "end_time": "2025-09-23T15:51:31.780175Z",
     "start_time": "2025-09-23T15:51:31.775162Z"
    }
   },
   "cell_type": "code",
   "source": "True\n",
   "id": "c244140f27dc5f90",
   "outputs": [
    {
     "data": {
      "text/plain": [
       "True"
      ]
     },
     "execution_count": 1,
     "metadata": {},
     "output_type": "execute_result"
    }
   ],
   "execution_count": 1
  },
  {
   "metadata": {
    "ExecuteTime": {
     "end_time": "2025-09-23T15:51:41.923448Z",
     "start_time": "2025-09-23T15:51:41.917025Z"
    }
   },
   "cell_type": "code",
   "source": "False",
   "id": "3e20e8454862c799",
   "outputs": [
    {
     "data": {
      "text/plain": [
       "False"
      ]
     },
     "execution_count": 2,
     "metadata": {},
     "output_type": "execute_result"
    }
   ],
   "execution_count": 2
  },
  {
   "metadata": {
    "ExecuteTime": {
     "end_time": "2025-09-23T15:51:57.543424Z",
     "start_time": "2025-09-23T15:51:57.539917Z"
    }
   },
   "cell_type": "code",
   "source": "type(False)",
   "id": "c0b78cf2c738c12b",
   "outputs": [
    {
     "data": {
      "text/plain": [
       "bool"
      ]
     },
     "execution_count": 3,
     "metadata": {},
     "output_type": "execute_result"
    }
   ],
   "execution_count": 3
  },
  {
   "metadata": {
    "ExecuteTime": {
     "end_time": "2025-09-23T15:52:11.538180Z",
     "start_time": "2025-09-23T15:52:11.534678Z"
    }
   },
   "cell_type": "code",
   "source": "1 > 2",
   "id": "20165b93b18bc947",
   "outputs": [
    {
     "data": {
      "text/plain": [
       "False"
      ]
     },
     "execution_count": 4,
     "metadata": {},
     "output_type": "execute_result"
    }
   ],
   "execution_count": 4
  },
  {
   "metadata": {
    "ExecuteTime": {
     "end_time": "2025-09-23T15:52:41.475031Z",
     "start_time": "2025-09-23T15:52:41.470527Z"
    }
   },
   "cell_type": "code",
   "source": "1 == 1",
   "id": "4ef640812e3aee73",
   "outputs": [
    {
     "data": {
      "text/plain": [
       "True"
      ]
     },
     "execution_count": 5,
     "metadata": {},
     "output_type": "execute_result"
    }
   ],
   "execution_count": 5
  },
  {
   "metadata": {
    "ExecuteTime": {
     "end_time": "2025-09-23T15:53:00.698738Z",
     "start_time": "2025-09-23T15:53:00.696235Z"
    }
   },
   "cell_type": "code",
   "source": "b = None",
   "id": "dbd4eb644cdc0b1b",
   "outputs": [],
   "execution_count": 7
  }
 ],
 "metadata": {
  "kernelspec": {
   "display_name": "Python 3",
   "language": "python",
   "name": "python3"
  },
  "language_info": {
   "codemirror_mode": {
    "name": "ipython",
    "version": 2
   },
   "file_extension": ".py",
   "mimetype": "text/x-python",
   "name": "python",
   "nbconvert_exporter": "python",
   "pygments_lexer": "ipython2",
   "version": "2.7.6"
  }
 },
 "nbformat": 4,
 "nbformat_minor": 5
}
