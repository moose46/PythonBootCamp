{
 "cells": [
  {
   "cell_type": "code",
   "id": "initial_id",
   "metadata": {
    "collapsed": true,
    "ExecuteTime": {
     "end_time": "2025-09-29T15:48:51.473087Z",
     "start_time": "2025-09-29T15:48:51.469500Z"
    }
   },
   "source": [
    "def lesser_of_two_evens(x,y):\n",
    "    if x%2==0 and y%2==0:\n",
    "        if x>y:\n",
    "            return y\n",
    "        else:\n",
    "            return x\n",
    "    else:\n",
    "        if x>y:\n",
    "            return x\n",
    "        else:\n",
    "            return y\n",
    "print(lesser_of_two_evens(2,4))\n",
    "print(lesser_of_two_evens(2,5))\n",
    "print(lesser_of_two_evens(5,9))"
   ],
   "outputs": [
    {
     "name": "stdout",
     "output_type": "stream",
     "text": [
      "2\n",
      "5\n",
      "9\n"
     ]
    }
   ],
   "execution_count": 11
  },
  {
   "metadata": {
    "ExecuteTime": {
     "end_time": "2025-09-29T15:53:04.710021Z",
     "start_time": "2025-09-29T15:53:04.706272Z"
    }
   },
   "cell_type": "code",
   "source": [
    "def makes_twenty(n1,n2):\n",
    "    if n1==20 or n2==20:\n",
    "        return True\n",
    "    if n1 + n2 == 20:\n",
    "        return True\n",
    "    return False\n",
    "print(makes_twenty(20,10))\n",
    "print(makes_twenty(12,8))\n",
    "print(makes_twenty(2,3))"
   ],
   "id": "1f5ad3d7e0dcb51e",
   "outputs": [
    {
     "name": "stdout",
     "output_type": "stream",
     "text": [
      "True\n",
      "True\n",
      "False\n"
     ]
    }
   ],
   "execution_count": 19
  },
  {
   "metadata": {
    "ExecuteTime": {
     "end_time": "2025-09-29T16:08:55.107734Z",
     "start_time": "2025-09-29T16:08:55.104309Z"
    }
   },
   "cell_type": "code",
   "source": [
    "def old_macdonald(s1:str):\n",
    "    cnt = 0\n",
    "    s2 = ''\n",
    "    for c in s1:\n",
    "        if cnt == 0 or cnt == 3:\n",
    "            cnt += 1\n",
    "            s2 = s2 + c.upper()\n",
    "        else:\n",
    "            s2 = s2 + c.lower()\n",
    "            cnt += 1\n",
    "    return s2\n",
    "print(old_macdonald(\"macdonald\"))"
   ],
   "id": "bbc184ed1e974121",
   "outputs": [
    {
     "name": "stdout",
     "output_type": "stream",
     "text": [
      "MacDonald\n"
     ]
    }
   ],
   "execution_count": 30
  },
  {
   "metadata": {
    "ExecuteTime": {
     "end_time": "2025-09-29T19:10:24.186276Z",
     "start_time": "2025-09-29T19:10:24.182246Z"
    }
   },
   "cell_type": "code",
   "source": [
    "def master_yoda(s):\n",
    "    s1 = s.split()\n",
    "    s1 = s1[::-1]\n",
    "    s3 = ' '.join(s1)\n",
    "    return s3\n",
    "\n",
    "print(master_yoda(\"I am home\"))\n",
    "print(master_yoda(\"We are ready\"))\n"
   ],
   "id": "3c473e323dcc3f99",
   "outputs": [
    {
     "name": "stdout",
     "output_type": "stream",
     "text": [
      "home am I\n",
      "ready are We\n"
     ]
    }
   ],
   "execution_count": 39
  },
  {
   "metadata": {
    "ExecuteTime": {
     "end_time": "2025-09-29T19:15:51.691001Z",
     "start_time": "2025-09-29T19:15:51.687923Z"
    }
   },
   "cell_type": "code",
   "source": [
    "def almost_there(n):\n",
    "    if n >= 90 and n <= 110 or n >= 190 and n <= 210 :\n",
    "        return True\n",
    "    else:\n",
    "        return False\n",
    "\n",
    "print(almost_there(90))\n",
    "print(almost_there(104))\n",
    "print(almost_there(150))\n",
    "print(almost_there(209))"
   ],
   "id": "e64ffc19d8d584b7",
   "outputs": [
    {
     "name": "stdout",
     "output_type": "stream",
     "text": [
      "True\n",
      "True\n",
      "False\n",
      "True\n"
     ]
    }
   ],
   "execution_count": 47
  },
  {
   "metadata": {
    "ExecuteTime": {
     "end_time": "2025-09-29T19:29:28.866909Z",
     "start_time": "2025-09-29T19:29:28.862909Z"
    }
   },
   "cell_type": "code",
   "source": [
    "# level 2 problems\n",
    "def has_33(l):\n",
    "    found_one_three = False\n",
    "    for num in l:\n",
    "        if num == 3 and not found_one_three:\n",
    "            found_one_three = True\n",
    "            # print(f'Found {num} continue')\n",
    "            continue\n",
    "        elif num != 3 and found_one_three:\n",
    "            # print(f'Found {num} continue')\n",
    "            found_one_three = False\n",
    "        if num == 3 and found_one_three:\n",
    "            return True\n",
    "    return False\n",
    "print(has_33([1,3,3]))\n",
    "print(has_33([1,3,1,3]))\n",
    "print(has_33([3,1,3]))"
   ],
   "id": "9873b995789b470c",
   "outputs": [
    {
     "name": "stdout",
     "output_type": "stream",
     "text": [
      "True\n",
      "False\n",
      "False\n"
     ]
    }
   ],
   "execution_count": 60
  },
  {
   "metadata": {
    "ExecuteTime": {
     "end_time": "2025-09-29T19:35:51.885912Z",
     "start_time": "2025-09-29T19:35:51.882993Z"
    }
   },
   "cell_type": "code",
   "source": [
    "def paper_doll(s):\n",
    "    s1 = ''\n",
    "    for c in s:\n",
    "        # print(c*3)\n",
    "        s1 = s1 + c*3\n",
    "    return s1\n",
    "print(paper_doll('Hello'))\n",
    "print(paper_doll('Mississippi'))\n"
   ],
   "id": "d9f803dafd9f16ab",
   "outputs": [
    {
     "name": "stdout",
     "output_type": "stream",
     "text": [
      "HHHeeellllllooo\n",
      "MMMiiissssssiiissssssiiippppppiii\n"
     ]
    }
   ],
   "execution_count": 66
  },
  {
   "metadata": {},
   "cell_type": "code",
   "outputs": [],
   "execution_count": null,
   "source": "",
   "id": "a4ba7b134e7f6971"
  }
 ],
 "metadata": {
  "kernelspec": {
   "display_name": "Python 3",
   "language": "python",
   "name": "python3"
  },
  "language_info": {
   "codemirror_mode": {
    "name": "ipython",
    "version": 2
   },
   "file_extension": ".py",
   "mimetype": "text/x-python",
   "name": "python",
   "nbconvert_exporter": "python",
   "pygments_lexer": "ipython2",
   "version": "2.7.6"
  }
 },
 "nbformat": 4,
 "nbformat_minor": 5
}
