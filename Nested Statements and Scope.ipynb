{
 "cells": [
  {
   "metadata": {
    "collapsed": true
   },
   "cell_type": "markdown",
   "source": "<https://www.udemy.com/course/complete-python-bootcamp/learn/lecture/9442716#overview>",
   "id": "448928ff5f945ea1"
  },
  {
   "metadata": {
    "ExecuteTime": {
     "end_time": "2025-09-30T13:40:47.188010Z",
     "start_time": "2025-09-30T13:40:47.183244Z"
    }
   },
   "cell_type": "code",
   "source": [
    "# LEGB Rule\n",
    "# L = Local\n",
    "# E = Enclosing\n",
    "# G = Global\n",
    "# B = Built-in\n",
    "\n",
    "x = 25 # Global\n",
    "def printer():\n",
    "    x = 50 # Local\n",
    "    return 50\n",
    "print(printer())\n",
    "name = \"Global String\"\n"
   ],
   "id": "b1084426d89eb4d5",
   "outputs": [
    {
     "name": "stdout",
     "output_type": "stream",
     "text": [
      "50\n"
     ]
    }
   ],
   "execution_count": 3
  },
  {
   "metadata": {
    "ExecuteTime": {
     "end_time": "2025-09-30T14:00:22.219088Z",
     "start_time": "2025-09-30T14:00:22.216070Z"
    }
   },
   "cell_type": "code",
   "source": [
    "def func():\n",
    "    global x # avoid if at all possible\n",
    "    print(f'x is {x}')\n",
    "    x = 200\n",
    "    print(f'Local x is {x}')\n",
    "func()\n",
    "print(x)"
   ],
   "id": "96918c436208cd56",
   "outputs": [
    {
     "name": "stdout",
     "output_type": "stream",
     "text": [
      "x is 25\n",
      "Local x is 200\n",
      "200\n"
     ]
    }
   ],
   "execution_count": 8
  },
  {
   "metadata": {},
   "cell_type": "code",
   "outputs": [],
   "execution_count": null,
   "source": "",
   "id": "ee6e479134fb134b"
  }
 ],
 "metadata": {
  "kernelspec": {
   "display_name": "Python 3",
   "language": "python",
   "name": "python3"
  },
  "language_info": {
   "codemirror_mode": {
    "name": "ipython",
    "version": 2
   },
   "file_extension": ".py",
   "mimetype": "text/x-python",
   "name": "python",
   "nbconvert_exporter": "python",
   "pygments_lexer": "ipython2",
   "version": "2.7.6"
  }
 },
 "nbformat": 4,
 "nbformat_minor": 5
}
