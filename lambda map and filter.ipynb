{
 "cells": [
  {
   "metadata": {
    "collapsed": true
   },
   "cell_type": "markdown",
   "source": "<https://www.udemy.com/course/complete-python-bootcamp/learn/lecture/9442692#overview>",
   "id": "71a9692638110dc9"
  },
  {
   "metadata": {
    "ExecuteTime": {
     "end_time": "2025-09-29T19:52:52.186108Z",
     "start_time": "2025-09-29T19:52:52.180102Z"
    }
   },
   "cell_type": "code",
   "source": [
    "def square(number):\n",
    "    return number**2\n",
    "for item in map(square, [1,2,3,4,5]):\n",
    "    print(item)\n",
    "list(map(square, [1,2,3,4,5]))"
   ],
   "id": "a493f881e9835a4a",
   "outputs": [
    {
     "name": "stdout",
     "output_type": "stream",
     "text": [
      "1\n",
      "4\n",
      "9\n",
      "16\n",
      "25\n"
     ]
    },
    {
     "data": {
      "text/plain": [
       "[1, 4, 9, 16, 25]"
      ]
     },
     "execution_count": 6,
     "metadata": {},
     "output_type": "execute_result"
    }
   ],
   "execution_count": 6
  },
  {
   "metadata": {
    "ExecuteTime": {
     "end_time": "2025-09-29T19:56:49.043698Z",
     "start_time": "2025-09-29T19:56:49.039161Z"
    }
   },
   "cell_type": "code",
   "source": [
    "def slicer(mystring):\n",
    "    if len(mystring)%2  == 0:\n",
    "        return 'EVEN'\n",
    "    else:\n",
    "        return mystring[0]\n",
    "names = ['Andy', 'Bob', 'Jenny']\n",
    "list(map(slicer, names))\n"
   ],
   "id": "1a81ec5441eaeb90",
   "outputs": [
    {
     "data": {
      "text/plain": [
       "['EVEN', 'B', 'J']"
      ]
     },
     "execution_count": 10,
     "metadata": {},
     "output_type": "execute_result"
    }
   ],
   "execution_count": 10
  },
  {
   "metadata": {
    "ExecuteTime": {
     "end_time": "2025-09-30T12:45:24.208977Z",
     "start_time": "2025-09-30T12:45:24.203720Z"
    }
   },
   "cell_type": "code",
   "source": [
    "def check_even(number):\n",
    "    return number % 2 == 0\n",
    "\n",
    "mynums = [1,2,3,4,5,6,7,8,9,10]\n",
    "list(filter(check_even, mynums))\n"
   ],
   "id": "523a6da8ddcd0c5b",
   "outputs": [
    {
     "data": {
      "text/plain": [
       "[2, 4, 6, 8, 10]"
      ]
     },
     "execution_count": 15,
     "metadata": {},
     "output_type": "execute_result"
    }
   ],
   "execution_count": 15
  },
  {
   "metadata": {
    "ExecuteTime": {
     "end_time": "2025-09-30T12:47:51.101875Z",
     "start_time": "2025-09-30T12:47:51.097026Z"
    }
   },
   "cell_type": "code",
   "source": [
    "def square(number):\n",
    "    return number**2\n",
    "square(4)"
   ],
   "id": "d56e9c7e1b29f0b0",
   "outputs": [
    {
     "data": {
      "text/plain": [
       "16"
      ]
     },
     "execution_count": 16,
     "metadata": {},
     "output_type": "execute_result"
    }
   ],
   "execution_count": 16
  },
  {
   "metadata": {
    "ExecuteTime": {
     "end_time": "2025-09-30T12:49:38.392905Z",
     "start_time": "2025-09-30T12:49:38.388932Z"
    }
   },
   "cell_type": "code",
   "source": [
    "square = lambda num: num**2\n",
    "square(5)"
   ],
   "id": "124bd3cd195f4775",
   "outputs": [
    {
     "data": {
      "text/plain": [
       "25"
      ]
     },
     "execution_count": 17,
     "metadata": {},
     "output_type": "execute_result"
    }
   ],
   "execution_count": 17
  },
  {
   "metadata": {
    "ExecuteTime": {
     "end_time": "2025-09-30T12:50:40.137095Z",
     "start_time": "2025-09-30T12:50:40.131995Z"
    }
   },
   "cell_type": "code",
   "source": [
    "mynums = [1,2,3,4,5]\n",
    "list(map(lambda num: num**2, mynums))\n"
   ],
   "id": "2131d6688414be9c",
   "outputs": [
    {
     "data": {
      "text/plain": [
       "[1, 4, 9, 16, 25]"
      ]
     },
     "execution_count": 18,
     "metadata": {},
     "output_type": "execute_result"
    }
   ],
   "execution_count": 18
  },
  {
   "metadata": {
    "ExecuteTime": {
     "end_time": "2025-09-30T12:51:28.258133Z",
     "start_time": "2025-09-30T12:51:28.253740Z"
    }
   },
   "cell_type": "code",
   "source": "list(filter(lambda num: num % 2 == 0, mynums))",
   "id": "c0c9f8e72f3cf785",
   "outputs": [
    {
     "data": {
      "text/plain": [
       "[2, 4]"
      ]
     },
     "execution_count": 20,
     "metadata": {},
     "output_type": "execute_result"
    }
   ],
   "execution_count": 20
  },
  {
   "metadata": {
    "ExecuteTime": {
     "end_time": "2025-09-30T12:54:14.926512Z",
     "start_time": "2025-09-30T12:54:14.921858Z"
    }
   },
   "cell_type": "code",
   "source": [
    "names\n",
    "print(list(map(lambda name: name[0], names)))\n",
    "list(map(lambda name: name[::-1], names))"
   ],
   "id": "e3a5bf9564ca193c",
   "outputs": [
    {
     "name": "stdout",
     "output_type": "stream",
     "text": [
      "['A', 'B', 'J']\n"
     ]
    },
    {
     "data": {
      "text/plain": [
       "['ydnA', 'boB', 'ynneJ']"
      ]
     },
     "execution_count": 25,
     "metadata": {},
     "output_type": "execute_result"
    }
   ],
   "execution_count": 25
  }
 ],
 "metadata": {
  "kernelspec": {
   "display_name": "Python 3",
   "language": "python",
   "name": "python3"
  },
  "language_info": {
   "codemirror_mode": {
    "name": "ipython",
    "version": 2
   },
   "file_extension": ".py",
   "mimetype": "text/x-python",
   "name": "python",
   "nbconvert_exporter": "python",
   "pygments_lexer": "ipython2",
   "version": "2.7.6"
  }
 },
 "nbformat": 4,
 "nbformat_minor": 5
}
