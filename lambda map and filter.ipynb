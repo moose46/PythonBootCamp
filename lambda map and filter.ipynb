{
 "cells": [
  {
   "metadata": {
    "collapsed": true
   },
   "cell_type": "markdown",
   "source": "<https://www.udemy.com/course/complete-python-bootcamp/learn/lecture/9442692#overview>",
   "id": "71a9692638110dc9"
  },
  {
   "metadata": {
    "ExecuteTime": {
     "end_time": "2025-09-29T19:52:52.186108Z",
     "start_time": "2025-09-29T19:52:52.180102Z"
    }
   },
   "cell_type": "code",
   "source": [
    "def square(number):\n",
    "    return number**2\n",
    "for item in map(square, [1,2,3,4,5]):\n",
    "    print(item)\n",
    "list(map(square, [1,2,3,4,5]))"
   ],
   "id": "a493f881e9835a4a",
   "outputs": [
    {
     "name": "stdout",
     "output_type": "stream",
     "text": [
      "1\n",
      "4\n",
      "9\n",
      "16\n",
      "25\n"
     ]
    },
    {
     "data": {
      "text/plain": [
       "[1, 4, 9, 16, 25]"
      ]
     },
     "execution_count": 6,
     "metadata": {},
     "output_type": "execute_result"
    }
   ],
   "execution_count": 6
  },
  {
   "metadata": {
    "ExecuteTime": {
     "end_time": "2025-09-29T19:56:49.043698Z",
     "start_time": "2025-09-29T19:56:49.039161Z"
    }
   },
   "cell_type": "code",
   "source": [
    "def slicer(mystring):\n",
    "    if len(mystring)%2  == 0:\n",
    "        return 'EVEN'\n",
    "    else:\n",
    "        return mystring[0]\n",
    "names = ['Andy', 'Bob', 'Jenny']\n",
    "list(map(slicer, names))\n"
   ],
   "id": "1a81ec5441eaeb90",
   "outputs": [
    {
     "data": {
      "text/plain": [
       "['EVEN', 'B', 'J']"
      ]
     },
     "execution_count": 10,
     "metadata": {},
     "output_type": "execute_result"
    }
   ],
   "execution_count": 10
  }
 ],
 "metadata": {
  "kernelspec": {
   "display_name": "Python 3",
   "language": "python",
   "name": "python3"
  },
  "language_info": {
   "codemirror_mode": {
    "name": "ipython",
    "version": 2
   },
   "file_extension": ".py",
   "mimetype": "text/x-python",
   "name": "python",
   "nbconvert_exporter": "python",
   "pygments_lexer": "ipython2",
   "version": "2.7.6"
  }
 },
 "nbformat": 4,
 "nbformat_minor": 5
}
