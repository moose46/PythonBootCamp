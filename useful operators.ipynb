{
 "cells": [
  {
   "cell_type": "code",
   "execution_count": null,
   "id": "initial_id",
   "metadata": {
    "collapsed": true
   },
   "outputs": [],
   "source": "<https://www.udemy.com/course/complete-python-bootcamp/learn/lecture/9407964#overview>"
  },
  {
   "metadata": {
    "ExecuteTime": {
     "end_time": "2025-09-24T15:26:46.194581Z",
     "start_time": "2025-09-24T15:26:46.190377Z"
    }
   },
   "cell_type": "code",
   "source": [
    "mylist = [1,2,3,4,5]\n",
    "for num in range(0,len(mylist),2):\n",
    "    print(mylist[num])"
   ],
   "id": "29610338d1679e1b",
   "outputs": [
    {
     "name": "stdout",
     "output_type": "stream",
     "text": [
      "1\n",
      "3\n",
      "5\n"
     ]
    }
   ],
   "execution_count": 2
  },
  {
   "metadata": {
    "ExecuteTime": {
     "end_time": "2025-09-24T15:27:47.633873Z",
     "start_time": "2025-09-24T15:27:47.629312Z"
    }
   },
   "cell_type": "code",
   "source": "list(range(0,11,2))",
   "id": "1992a1485a90f7dd",
   "outputs": [
    {
     "data": {
      "text/plain": [
       "[0, 2, 4, 6, 8, 10]"
      ]
     },
     "execution_count": 3,
     "metadata": {},
     "output_type": "execute_result"
    }
   ],
   "execution_count": 3
  },
  {
   "metadata": {
    "ExecuteTime": {
     "end_time": "2025-09-24T15:29:14.245202Z",
     "start_time": "2025-09-24T15:29:14.240748Z"
    }
   },
   "cell_type": "code",
   "source": [
    "index_count = 0\n",
    "for letter in 'abc':\n",
    "    print(f'{index_count}. {letter}')\n",
    "    index_count += 1"
   ],
   "id": "3b6441461fe5321a",
   "outputs": [
    {
     "name": "stdout",
     "output_type": "stream",
     "text": [
      "0. a\n",
      "1. b\n",
      "2. c\n"
     ]
    }
   ],
   "execution_count": 5
  },
  {
   "metadata": {
    "ExecuteTime": {
     "end_time": "2025-09-24T15:33:47.457358Z",
     "start_time": "2025-09-24T15:33:47.452021Z"
    }
   },
   "cell_type": "code",
   "source": [
    "\n",
    "word = 'abcde'\n",
    "for a,b in enumerate(word):\n",
    "    print(f'{a}={b}')\n"
   ],
   "id": "9deb07304927d9c6",
   "outputs": [
    {
     "name": "stdout",
     "output_type": "stream",
     "text": [
      "0=a\n",
      "1=b\n",
      "2=c\n",
      "3=d\n",
      "4=e\n"
     ]
    }
   ],
   "execution_count": 9
  },
  {
   "metadata": {
    "ExecuteTime": {
     "end_time": "2025-09-24T15:37:19.152137Z",
     "start_time": "2025-09-24T15:37:19.148631Z"
    }
   },
   "cell_type": "code",
   "source": [
    "mylist1 = [1,2,3,4,5]\n",
    "mylist2 = ['a','b','c','d','e','f']\n",
    "mylist3 = [1,2,3,4,5]\n",
    "for item in zip(mylist1,mylist2, mylist3):\n",
    "    print(item)"
   ],
   "id": "84355938995b7fb5",
   "outputs": [
    {
     "name": "stdout",
     "output_type": "stream",
     "text": [
      "(1, 'a', 1)\n",
      "(2, 'b', 2)\n",
      "(3, 'c', 3)\n",
      "(4, 'd', 4)\n",
      "(5, 'e', 5)\n"
     ]
    }
   ],
   "execution_count": 16
  },
  {
   "metadata": {
    "ExecuteTime": {
     "end_time": "2025-09-24T15:39:01.828916Z",
     "start_time": "2025-09-24T15:39:01.826255Z"
    }
   },
   "cell_type": "code",
   "source": [
    "'x' in [1,2,3,4,5]\n",
    "#'x' not in [1,2,3,4,5]"
   ],
   "id": "920e636a2ff7ca6b",
   "outputs": [
    {
     "data": {
      "text/plain": [
       "False"
      ]
     },
     "execution_count": 18,
     "metadata": {},
     "output_type": "execute_result"
    }
   ],
   "execution_count": 18
  },
  {
   "metadata": {
    "ExecuteTime": {
     "end_time": "2025-09-24T15:40:25.812860Z",
     "start_time": "2025-09-24T15:40:25.809327Z"
    }
   },
   "cell_type": "code",
   "source": "'mykey' in {'mykey':'value'}",
   "id": "2217cb33ac5329e3",
   "outputs": [
    {
     "data": {
      "text/plain": [
       "True"
      ]
     },
     "execution_count": 19,
     "metadata": {},
     "output_type": "execute_result"
    }
   ],
   "execution_count": 19
  },
  {
   "metadata": {
    "ExecuteTime": {
     "end_time": "2025-09-24T15:41:22.423840Z",
     "start_time": "2025-09-24T15:41:22.419302Z"
    }
   },
   "cell_type": "code",
   "source": [
    "d = {'a':1,'b':2,'c':3}\n",
    "2 in d.values()"
   ],
   "id": "8941e09939df8720",
   "outputs": [
    {
     "data": {
      "text/plain": [
       "True"
      ]
     },
     "execution_count": 20,
     "metadata": {},
     "output_type": "execute_result"
    }
   ],
   "execution_count": 20
  },
  {
   "metadata": {
    "ExecuteTime": {
     "end_time": "2025-09-24T15:42:14.249301Z",
     "start_time": "2025-09-24T15:42:14.244820Z"
    }
   },
   "cell_type": "code",
   "source": [
    "mylist = [10,20,30,40,50,60,70,80,90]\n",
    "min(mylist)"
   ],
   "id": "d8b2abee1c9fc8ba",
   "outputs": [
    {
     "data": {
      "text/plain": [
       "10"
      ]
     },
     "execution_count": 21,
     "metadata": {},
     "output_type": "execute_result"
    }
   ],
   "execution_count": 21
  },
  {
   "metadata": {
    "ExecuteTime": {
     "end_time": "2025-09-24T15:42:33.394964Z",
     "start_time": "2025-09-24T15:42:33.390463Z"
    }
   },
   "cell_type": "code",
   "source": "max(mylist)",
   "id": "cf75ec1ff6c8998",
   "outputs": [
    {
     "data": {
      "text/plain": [
       "90"
      ]
     },
     "execution_count": 22,
     "metadata": {},
     "output_type": "execute_result"
    }
   ],
   "execution_count": 22
  },
  {
   "metadata": {
    "ExecuteTime": {
     "end_time": "2025-09-24T15:43:35.185169Z",
     "start_time": "2025-09-24T15:43:35.181386Z"
    }
   },
   "cell_type": "code",
   "source": [
    "from random import shuffle\n",
    "shuffle(mylist)\n",
    "mylist"
   ],
   "id": "4bbffb0592a2453f",
   "outputs": [
    {
     "data": {
      "text/plain": [
       "[30, 70, 20, 40, 10, 60, 80, 50, 90]"
      ]
     },
     "execution_count": 24,
     "metadata": {},
     "output_type": "execute_result"
    }
   ],
   "execution_count": 24
  },
  {
   "metadata": {
    "ExecuteTime": {
     "end_time": "2025-09-24T15:45:08.786920Z",
     "start_time": "2025-09-24T15:45:08.783451Z"
    }
   },
   "cell_type": "code",
   "source": [
    "from random import randint\n",
    "randint(1,10)"
   ],
   "id": "6612f6bc864c40fb",
   "outputs": [
    {
     "data": {
      "text/plain": [
       "3"
      ]
     },
     "execution_count": 44,
     "metadata": {},
     "output_type": "execute_result"
    }
   ],
   "execution_count": 44
  },
  {
   "metadata": {
    "ExecuteTime": {
     "end_time": "2025-09-24T15:46:01.697385Z",
     "start_time": "2025-09-24T15:45:54.239218Z"
    }
   },
   "cell_type": "code",
   "source": "input('Type Something: ')",
   "id": "5acac91eecb5f49c",
   "outputs": [
    {
     "data": {
      "text/plain": [
       "'ssdfsdf\\n'"
      ]
     },
     "execution_count": 45,
     "metadata": {},
     "output_type": "execute_result"
    }
   ],
   "execution_count": 45
  }
 ],
 "metadata": {
  "kernelspec": {
   "display_name": "Python 3",
   "language": "python",
   "name": "python3"
  },
  "language_info": {
   "codemirror_mode": {
    "name": "ipython",
    "version": 2
   },
   "file_extension": ".py",
   "mimetype": "text/x-python",
   "name": "python",
   "nbconvert_exporter": "python",
   "pygments_lexer": "ipython2",
   "version": "2.7.6"
  }
 },
 "nbformat": 4,
 "nbformat_minor": 5
}
