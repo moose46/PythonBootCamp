{
 "cells": [
  {
   "cell_type": "code",
   "id": "initial_id",
   "metadata": {
    "collapsed": true,
    "ExecuteTime": {
     "end_time": "2025-09-24T19:54:52.450731Z",
     "start_time": "2025-09-24T19:54:52.447507Z"
    }
   },
   "source": [
    "def say_hello():\n",
    "    print(\"Hello World!\")\n",
    "say_hello()"
   ],
   "outputs": [
    {
     "name": "stdout",
     "output_type": "stream",
     "text": [
      "Hello World!\n"
     ]
    }
   ],
   "execution_count": 9
  },
  {
   "metadata": {
    "ExecuteTime": {
     "end_time": "2025-09-24T19:54:52.472317Z",
     "start_time": "2025-09-24T19:54:52.469301Z"
    }
   },
   "cell_type": "code",
   "source": [
    "def say_hello(name='Default'):\n",
    "    print(f'Hello {name}')\n",
    "say_hello(\"John\")\n",
    "say_hello()"
   ],
   "id": "2192d667a27d291",
   "outputs": [
    {
     "name": "stdout",
     "output_type": "stream",
     "text": [
      "Hello John\n",
      "Hello Default\n"
     ]
    }
   ],
   "execution_count": 10
  },
  {
   "metadata": {
    "ExecuteTime": {
     "end_time": "2025-09-24T19:54:52.486096Z",
     "start_time": "2025-09-24T19:54:52.482832Z"
    }
   },
   "cell_type": "code",
   "source": [
    "def add_num(num1,num2):\n",
    "    return num1 + num2\n",
    "add_num(1,2)"
   ],
   "id": "6bd2f507de18176b",
   "outputs": [
    {
     "data": {
      "text/plain": [
       "3"
      ]
     },
     "execution_count": 11,
     "metadata": {},
     "output_type": "execute_result"
    }
   ],
   "execution_count": 11
  },
  {
   "metadata": {
    "ExecuteTime": {
     "end_time": "2025-09-24T19:58:45.453942Z",
     "start_time": "2025-09-24T19:58:45.450440Z"
    }
   },
   "cell_type": "code",
   "source": [
    "def sum_numbers(a:int,b:int):\n",
    "    return a+b\n",
    "sum_numbers(3,4)"
   ],
   "id": "9b2898c198e33672",
   "outputs": [
    {
     "data": {
      "text/plain": [
       "7"
      ]
     },
     "execution_count": 13,
     "metadata": {},
     "output_type": "execute_result"
    }
   ],
   "execution_count": 13
  }
 ],
 "metadata": {
  "kernelspec": {
   "display_name": "Python 3",
   "language": "python",
   "name": "python3"
  },
  "language_info": {
   "codemirror_mode": {
    "name": "ipython",
    "version": 2
   },
   "file_extension": ".py",
   "mimetype": "text/x-python",
   "name": "python",
   "nbconvert_exporter": "python",
   "pygments_lexer": "ipython2",
   "version": "2.7.6"
  }
 },
 "nbformat": 4,
 "nbformat_minor": 5
}
