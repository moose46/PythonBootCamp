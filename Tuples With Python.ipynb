{
 "cells": [
  {
   "cell_type": "code",
   "id": "initial_id",
   "metadata": {
    "collapsed": true,
    "ExecuteTime": {
     "end_time": "2025-09-23T15:37:02.931563Z",
     "start_time": "2025-09-23T15:37:02.928484Z"
    }
   },
   "source": "### <https://www.udemy.com/course/complete-python-bootcamp/learn/lecture/9388540#content>",
   "outputs": [],
   "execution_count": 5
  },
  {
   "metadata": {
    "ExecuteTime": {
     "end_time": "2025-09-23T15:38:04.870570Z",
     "start_time": "2025-09-23T15:38:04.868058Z"
    }
   },
   "cell_type": "code",
   "source": [
    "t = (1,2,3)\n",
    "mylist = [1,2,3]"
   ],
   "id": "db445bbf5bb28bef",
   "outputs": [],
   "execution_count": 6
  },
  {
   "metadata": {
    "ExecuteTime": {
     "end_time": "2025-09-23T15:38:20.758703Z",
     "start_time": "2025-09-23T15:38:20.753703Z"
    }
   },
   "cell_type": "code",
   "source": "len(t)",
   "id": "f32422f4c5cfec99",
   "outputs": [
    {
     "data": {
      "text/plain": [
       "3"
      ]
     },
     "execution_count": 7,
     "metadata": {},
     "output_type": "execute_result"
    }
   ],
   "execution_count": 7
  },
  {
   "metadata": {
    "ExecuteTime": {
     "end_time": "2025-09-23T15:38:46.299723Z",
     "start_time": "2025-09-23T15:38:46.294677Z"
    }
   },
   "cell_type": "code",
   "source": "len(mylist)",
   "id": "bbc84a35b56dc02a",
   "outputs": [
    {
     "data": {
      "text/plain": [
       "3"
      ]
     },
     "execution_count": 8,
     "metadata": {},
     "output_type": "execute_result"
    }
   ],
   "execution_count": 8
  },
  {
   "metadata": {
    "ExecuteTime": {
     "end_time": "2025-09-23T15:40:11.232475Z",
     "start_time": "2025-09-23T15:40:11.228103Z"
    }
   },
   "cell_type": "code",
   "source": [
    "t = ('a','a','c')\n",
    "t.count('a')"
   ],
   "id": "65f51c5be2272354",
   "outputs": [
    {
     "data": {
      "text/plain": [
       "2"
      ]
     },
     "execution_count": 10,
     "metadata": {},
     "output_type": "execute_result"
    }
   ],
   "execution_count": 10
  },
  {
   "metadata": {
    "ExecuteTime": {
     "end_time": "2025-09-23T15:41:01.840040Z",
     "start_time": "2025-09-23T15:41:01.836234Z"
    }
   },
   "cell_type": "code",
   "source": "t.index('c')\n",
   "id": "8e5535019f3b6659",
   "outputs": [
    {
     "data": {
      "text/plain": [
       "2"
      ]
     },
     "execution_count": 12,
     "metadata": {},
     "output_type": "execute_result"
    }
   ],
   "execution_count": 12
  }
 ],
 "metadata": {
  "kernelspec": {
   "display_name": "Python 3",
   "language": "python",
   "name": "python3"
  },
  "language_info": {
   "codemirror_mode": {
    "name": "ipython",
    "version": 2
   },
   "file_extension": ".py",
   "mimetype": "text/x-python",
   "name": "python",
   "nbconvert_exporter": "python",
   "pygments_lexer": "ipython2",
   "version": "2.7.6"
  }
 },
 "nbformat": 4,
 "nbformat_minor": 5
}
